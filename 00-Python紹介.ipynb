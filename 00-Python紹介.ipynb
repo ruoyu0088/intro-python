{
 "cells": [
  {
   "cell_type": "markdown",
   "metadata": {},
   "source": [
    "# Python紹介"
   ]
  },
  {
   "cell_type": "markdown",
   "metadata": {},
   "source": [
    "## Python\n",
    "\n",
    "### Life is short, you need Python\n",
    "### 人生苦短，Python是岸"
   ]
  },
  {
   "cell_type": "markdown",
   "metadata": {},
   "source": [
    "### この資料について\n",
    "\n",
    "* https://github.com/ruoyu0088/intro-python\n",
    "\n",
    "* [nbviewer](http://nbviewer.jupyter.org/github/ruoyu0088/intro-python/tree/master/)で`ipynb`ファイルを閲覧してください。"
   ]
  },
  {
   "cell_type": "markdown",
   "metadata": {},
   "source": [
    "### Pythonの良いところ\n",
    "\n",
    "* なにかするとき、選択肢が1つ、出来ればそれが唯一の方法であること\n",
    "* 他人（玄人）が書いたコードがあまり苦労無く読める\n",
    "* バッテリー同梱（標準モジュールが充実）\n",
    "* 拡張ライブラリが豊富"
   ]
  },
  {
   "cell_type": "markdown",
   "metadata": {},
   "source": [
    "### Python Zen"
   ]
  },
  {
   "cell_type": "code",
   "execution_count": 23,
   "metadata": {
    "collapsed": false
   },
   "outputs": [
    {
     "name": "stdout",
     "output_type": "stream",
     "text": [
      "The Zen of Python, by Tim Peters\n",
      "\n",
      "Beautiful is better than ugly.\n",
      "Explicit is better than implicit.\n",
      "Simple is better than complex.\n",
      "Complex is better than complicated.\n",
      "Flat is better than nested.\n",
      "Sparse is better than dense.\n",
      "Readability counts.\n",
      "Special cases aren't special enough to break the rules.\n",
      "Although practicality beats purity.\n",
      "Errors should never pass silently.\n",
      "Unless explicitly silenced.\n",
      "In the face of ambiguity, refuse the temptation to guess.\n",
      "There should be one-- and preferably only one --obvious way to do it.\n",
      "Although that way may not be obvious at first unless you're Dutch.\n",
      "Now is better than never.\n",
      "Although never is often better than *right* now.\n",
      "If the implementation is hard to explain, it's a bad idea.\n",
      "If the implementation is easy to explain, it may be a good idea.\n",
      "Namespaces are one honking great idea -- let's do more of those!\n"
     ]
    }
   ],
   "source": [
    "import this"
   ]
  },
  {
   "cell_type": "markdown",
   "metadata": {},
   "source": [
    "## Pythonの人気度"
   ]
  },
  {
   "cell_type": "markdown",
   "metadata": {},
   "source": [
    "### TIOBE\n",
    "\n",
    "http://www.tiobe.com/tiobe-index/"
   ]
  },
  {
   "cell_type": "markdown",
   "metadata": {},
   "source": [
    "### PYPL PopularitY of Programming Language\n",
    "\n",
    "http://pypl.github.io/PYPL.html"
   ]
  },
  {
   "cell_type": "markdown",
   "metadata": {},
   "source": [
    "###### [Python is Now the Most Popular Introductory Teaching Language at Top U.S. Universities](http://cacm.acm.org/blogs/blog-cacm/176450-python-is-now-the-most-popular-introductory-teaching-language-at-top-u-s-universities/fulltext)\n",
    "\n",
    "<img src=\"img/Top39-700.4.png\" align=\"center\"/>"
   ]
  },
  {
   "cell_type": "markdown",
   "metadata": {},
   "source": [
    "###### [Python overtakes French as the most popular language taught in primary schools](http://www.information-age.com/python-overtakes-french-most-popular-language-taught-primary-schools-123460073/)"
   ]
  },
  {
   "cell_type": "markdown",
   "metadata": {},
   "source": [
    "###### [Which language is more used in Machine Learning and Data Science?](https://www.quora.com/Which-language-is-more-used-in-Machine-Learning-and-Data-Science-R-or-Python)\n",
    "\n",
    "![](img/python_in_datascience.jpg)"
   ]
  },
  {
   "cell_type": "markdown",
   "metadata": {},
   "source": [
    "###### [人類が初めて観測した「重力波」、データ解析はPythonで](https://losc.ligo.org/s/events/GW150914/GW150914_tutorial.html)\n",
    "\n",
    "![](img/wave.png)"
   ]
  },
  {
   "cell_type": "markdown",
   "metadata": {},
   "source": [
    "## Pythonファミリー"
   ]
  },
  {
   "cell_type": "markdown",
   "metadata": {},
   "source": [
    "### Python 2 or 3\n",
    "\n",
    "Pythonには2.x系列と3.x系列あり、3.xは後方互換性がない。\n",
    "\n",
    "* Python2の支持は2020年まで\n",
    "* はじめるなら3で、理由があるなら2でもいいですが、2.7系が良いです。\n",
    "* 混乱がありましたが、マルチバイト文字を最初から考慮している3は良いです。\n"
   ]
  },
  {
   "cell_type": "markdown",
   "metadata": {},
   "source": [
    "### CPython\n",
    "\n",
    "http://python.org\n",
    "\n",
    "C言語で書かれた元祖Python"
   ]
  },
  {
   "cell_type": "markdown",
   "metadata": {},
   "source": [
    "### PyPy\n",
    "\n",
    "http://pypy.org\n",
    "\n",
    "* Pythonで記述されたPython、セルフホスティング\n",
    "* JITコンパイル機能"
   ]
  },
  {
   "cell_type": "markdown",
   "metadata": {},
   "source": [
    "### 他にもいろいろある"
   ]
  },
  {
   "cell_type": "markdown",
   "metadata": {},
   "source": [
    "### IronPython\n",
    "\n",
    "http://ironpython.net/\n",
    "\n",
    ".NET Framework上に移植されたPython"
   ]
  },
  {
   "cell_type": "markdown",
   "metadata": {},
   "source": [
    "### Jython\n",
    "\n",
    "http://www.jython.org/\n",
    "\n",
    "JVM上に移植されたPython，Javaとの親和性が高い"
   ]
  },
  {
   "cell_type": "markdown",
   "metadata": {},
   "source": [
    "### Brython\n",
    "\n",
    "https://www.brython.info/\n",
    "\n",
    "* JavaScriptで実装したPythonインタプリタ\n",
    "* Web Browser上で動く"
   ]
  },
  {
   "cell_type": "markdown",
   "metadata": {},
   "source": [
    "### MicroPython\n",
    "\n",
    "https://micropython.org/\n",
    "\n",
    "<img src=\"img/pyboard.jpg\" width=\"300px\" align=\"left\"/>\n",
    "* マイコン上でPythonが動く\n",
    "* Arduinoのようなて軽さ\n",
    "* Interactive Shellが使える"
   ]
  },
  {
   "cell_type": "markdown",
   "metadata": {},
   "source": [
    "## 応用分野"
   ]
  },
  {
   "cell_type": "markdown",
   "metadata": {},
   "source": [
    "https://github.com/vinta/awesome-python"
   ]
  },
  {
   "cell_type": "markdown",
   "metadata": {},
   "source": [
    "### Web\n",
    "\n",
    "Django, Flask"
   ]
  },
  {
   "cell_type": "code",
   "execution_count": 20,
   "metadata": {
    "collapsed": false
   },
   "outputs": [
    {
     "data": {
      "text/html": [
       "<script type=\"text/javascript\" src=\"https://ssl.gstatic.com/trends_nrtr/925_RC01/embed_loader.js\"></script>\n",
       "<div id=\"django\"></div>\n",
       "<!--- %%hide -->"
      ],
      "text/plain": [
       "<IPython.core.display.HTML object>"
      ]
     },
     "metadata": {},
     "output_type": "display_data"
    }
   ],
   "source": [
    "%%html\n",
    "<script type=\"text/javascript\" src=\"https://ssl.gstatic.com/trends_nrtr/925_RC01/embed_loader.js\"></script>\n",
    "<div id=\"django\"></div>\n",
    "<!--- %%hide -->"
   ]
  },
  {
   "cell_type": "code",
   "execution_count": 22,
   "metadata": {
    "collapsed": false
   },
   "outputs": [
    {
     "data": {
      "application/javascript": [
       "jQuery(\"#django\").empty();\n",
       "trends.embed.renderExploreWidgetTo(jQuery(\"#django\")[0], \n",
       "                                   \"TIMESERIES\", \n",
       "                                   {\"comparisonItem\":[{\"keyword\":\"Django\",\"geo\":\"US\",\"time\":\"today 5-y\"},\n",
       "                                                      {\"keyword\":\"Ruby on Rails\",\"geo\":\"US\",\"time\":\"today 5-y\"}],\n",
       "                                    \"category\":31,\"property\":\"\"}, \n",
       "                                   {\"exploreQuery\":\"cat=31&geo=US&q=Django,Ruby%20on%20Rails\",\n",
       "                                    \"guestPath\":\"https://trends.google.com:443/trends/embed/\"});\n",
       "//%%hide"
      ],
      "text/plain": [
       "<IPython.core.display.Javascript object>"
      ]
     },
     "metadata": {},
     "output_type": "display_data"
    }
   ],
   "source": [
    "%%javascript\n",
    "jQuery(\"#django\").empty();\n",
    "trends.embed.renderExploreWidgetTo(jQuery(\"#django\")[0], \n",
    "                                   \"TIMESERIES\", \n",
    "                                   {\"comparisonItem\":[{\"keyword\":\"Django\",\"geo\":\"US\",\"time\":\"today 5-y\"},\n",
    "                                                      {\"keyword\":\"Ruby on Rails\",\"geo\":\"US\",\"time\":\"today 5-y\"}],\n",
    "                                    \"category\":31,\"property\":\"\"}, \n",
    "                                   {\"exploreQuery\":\"cat=31&geo=US&q=Django,Ruby%20on%20Rails\",\n",
    "                                    \"guestPath\":\"https://trends.google.com:443/trends/embed/\"});\n",
    "//%%hide"
   ]
  },
  {
   "cell_type": "markdown",
   "metadata": {},
   "source": [
    "### GUI\n",
    "\n",
    "PyQt Kivy Flexx"
   ]
  },
  {
   "cell_type": "markdown",
   "metadata": {},
   "source": [
    "### 可視化\n",
    "\n",
    "matplotlib bokeh Mayavi"
   ]
  },
  {
   "cell_type": "markdown",
   "metadata": {},
   "source": [
    "### データ解析\n",
    "\n",
    "NumPy SciPy Pandas"
   ]
  },
  {
   "cell_type": "markdown",
   "metadata": {},
   "source": [
    "### 機械学習\n",
    "\n",
    "scikit-learn tensorflow"
   ]
  },
  {
   "cell_type": "markdown",
   "metadata": {},
   "source": [
    "## 開発ツールと環境"
   ]
  },
  {
   "cell_type": "markdown",
   "metadata": {},
   "source": [
    "### PyCharm\n",
    "\n",
    "https://www.jetbrains.com/pycharm/"
   ]
  },
  {
   "cell_type": "markdown",
   "metadata": {},
   "source": [
    "### Visual Studio Code\n",
    "\n",
    "https://code.visualstudio.com/"
   ]
  },
  {
   "cell_type": "markdown",
   "metadata": {},
   "source": [
    "### Spyder\n",
    "\n",
    "https://pythonhosted.org/spyder/"
   ]
  },
  {
   "cell_type": "markdown",
   "metadata": {
    "collapsed": true
   },
   "source": [
    "### Jupyter Notebook\n",
    "\n",
    "http://jupyter.org/\n",
    "\n",
    "* Webブラウザ内にコードと結果（画像を含む）などを一括管理できる\n",
    "* このスライドはipython notebookで作っています"
   ]
  },
  {
   "cell_type": "markdown",
   "metadata": {},
   "source": [
    "### Anaconda\n",
    "\n",
    "https://www.continuum.io/downloads\n",
    "\n",
    "Python本体に加え、科学技術、数学、エンジニアリング、データ分析など、よく利用される Python パッケージを一括でインストール可能にしたパッケージです。"
   ]
  },
  {
   "cell_type": "markdown",
   "metadata": {},
   "source": [
    "### Microsoft Azure Notebooks\n",
    "\n",
    "https://notebooks.azure.com\n",
    "\n",
    "クラウド上Jupyter Notebookを動かす"
   ]
  },
  {
   "cell_type": "markdown",
   "metadata": {},
   "source": [
    "## 成果物"
   ]
  },
  {
   "cell_type": "markdown",
   "metadata": {},
   "source": [
    "### Python科学計算\n",
    "\n",
    "|              | 初版        |     　再版    |\n",
    "|--------------|------------|--------------|\n",
    "|   执筆時期     |2009 ~ 2012 | 2013 ~ 2016 |\n",
    "|ページ(B5判)     | 621        | 716         |\n",
    "|サンプルコード      |            | > 10,000行  |\n",
    "|文字数          | 94.1万     | 110万        |\n",
    "|販売量          | > 10,000冊 |             |"
   ]
  },
  {
   "cell_type": "markdown",
   "metadata": {},
   "source": [
    "### 自宅ホームページ\n",
    "\n",
    "http://hyry.dip.jp\n",
    "\n",
    "* Raspberry PI 3上で動く\n",
    "* ウェブサーバはWeb2Py"
   ]
  },
  {
   "cell_type": "markdown",
   "metadata": {},
   "source": [
    "### StackOverflow\n",
    "\n",
    "http://stackoverflow.com/users/772649/hyry\n",
    "\n",
    "<a href=\"http://stackoverflow.com/users/772649/hyry\">\n",
    "<img src=\"http://stackoverflow.com/users/flair/772649.png\" width=\"416\" height=\"106\" alt=\"profile for HYRY at Stack Overflow, Q&amp;A for professional and enthusiast programmers\" title=\"profile for HYRY at Stack Overflow, Q&amp;A for professional and enthusiast programmers\">\n",
    "</a>"
   ]
  },
  {
   "cell_type": "markdown",
   "metadata": {},
   "source": [
    "### Github\n",
    "\n",
    "https://github.com/ruoyu0088\n",
    "\n",
    "* jupyter_extensions\n",
    "* pyeverything\n",
    "* nb_crossfilter\n",
    "* ..."
   ]
  }
 ],
 "metadata": {
  "anaconda-cloud": {},
  "kernelspec": {
   "display_name": "Python [default]",
   "language": "python",
   "name": "python3"
  },
  "language_info": {
   "codemirror_mode": {
    "name": "ipython",
    "version": 3
   },
   "file_extension": ".py",
   "mimetype": "text/x-python",
   "name": "python",
   "nbconvert_exporter": "python",
   "pygments_lexer": "ipython3",
   "version": "3.5.2"
  },
  "scpy3": {
   "slide": {
    "speed": "default",
    "theme": "solarized",
    "transition": "convex"
   }
  }
 },
 "nbformat": 4,
 "nbformat_minor": 0
}
