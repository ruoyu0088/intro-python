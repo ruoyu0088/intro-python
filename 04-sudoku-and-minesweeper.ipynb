{
 "cells": [
  {
   "cell_type": "markdown",
   "metadata": {},
   "source": [
    "# 数独とマインスイーパー"
   ]
  },
  {
   "cell_type": "markdown",
   "metadata": {},
   "source": [
    "## ロジック推理問題"
   ]
  },
  {
   "cell_type": "markdown",
   "metadata": {},
   "source": [
    "* A: 私はやっていない。\n",
    "* B: Dは犯人です。\n",
    "* C: Bは犯人だ。\n",
    "* D: Bは嘘を言っています。\n",
    "\n",
    "四人の中一人だけ本当のことを言っています。犯人はだれでしょうか。"
   ]
  },
  {
   "cell_type": "markdown",
   "metadata": {},
   "source": [
    "|  容疑者 | 発言  | ブール式  |\n",
    "|:--|:--|:--|\n",
    "| A  | 私はやっていない  | `S1=~A`  |\n",
    "| B  | Dは犯人です  |  `S2=D` |\n",
    "| C  | Bは犯人だ  |  `S3=B` |\n",
    "| D  | Bは嘘を言っています | `S4=~D`  |"
   ]
  },
  {
   "cell_type": "markdown",
   "metadata": {},
   "source": [
    "一人だけ真実を語っています。AND-ORの選言標準形(DNF)で表すと、\n",
    "\n",
    "```\n",
    "     S1 & ~S2 & ~S3 & ~S4 |\n",
    "    ~S1 &  S2 & ~S3 & ~S4 | \n",
    "    ~S1 & ~S2 &  S3 & ~S4 | \n",
    "    ~S1 & ~S2 & ~S3 &  S4\n",
    "```\n",
    "\n",
    "OR-ANDの連言標準形(CNF)で表すと、\n",
    "\n",
    "```\n",
    "    ~(S1 & S2) &\n",
    "    ~(S1 & S3) &\n",
    "    ~(S1 & S4) &\n",
    "    ~(S2 & S3) &\n",
    "    ~(S2 & S4) &\n",
    "    ~(S3 & S4) &\n",
    "    ~(~S1 & ~S2 & ~S3 & ~S4)\n",
    "```\n",
    "\n",
    "A, B, C, Dを入れ替えると次の式になります。\n",
    "\n",
    "```\n",
    "    ~S1, ~S2               A, ~D\n",
    "    ~S1, ~S3               A, ~B\n",
    "    ~S1, ~S4               A,  D\n",
    "    ~S2, ~S3              ~D, ~B\n",
    "    ~S2, ~S4              ~D,  D\n",
    "    ~S3, ~S4              ~B,  D\n",
    "     S1,  S2, S3, S4      ~A,  D, B, ~D\n",
    "```     \n",
    "\n",
    "C言語のライブラリ`picosat`でCNF式を解けます。PythonからC言語のライブラリを簡単に実行できるCythonというコンパイラを利用して、Pythonの拡張ライブラリを作ります。"
   ]
  },
  {
   "cell_type": "markdown",
   "metadata": {},
   "source": [
    "#### Windowsでビルド"
   ]
  },
  {
   "cell_type": "code",
   "execution_count": null,
   "metadata": {
    "collapsed": false
   },
   "outputs": [],
   "source": [
    "%%cmd\n",
    "cd cycosat\n",
    "python setup.py build_ext --inplace"
   ]
  },
  {
   "cell_type": "markdown",
   "metadata": {},
   "source": [
    "#### Linuxでビルド"
   ]
  },
  {
   "cell_type": "code",
   "execution_count": null,
   "metadata": {
    "collapsed": true
   },
   "outputs": [],
   "source": [
    "%%bash\n",
    "cd cycosat\n",
    "source activate python3\n",
    "python setup.py build_ext --inplace"
   ]
  },
  {
   "cell_type": "code",
   "execution_count": 2,
   "metadata": {
    "collapsed": false
   },
   "outputs": [
    {
     "name": "stdout",
     "output_type": "stream",
     "text": [
      "[1, -1, -1, -1]\n"
     ]
    }
   ],
   "source": [
    "from cycosat import CoSAT\n",
    "\n",
    "sat = CoSAT()\n",
    "problem = [[1, -4], [1, -2], [1, 4], [-4, -2],\n",
    "           [-4, 4], [-2, 4], [-1, 4, 2, -4]]\n",
    "\n",
    "sat.add_clauses(problem)\n",
    "print(sat.solve())"
   ]
  },
  {
   "cell_type": "markdown",
   "metadata": {},
   "source": [
    "## 数独"
   ]
  },
  {
   "cell_type": "code",
   "execution_count": 7,
   "metadata": {
    "collapsed": false
   },
   "outputs": [
    {
     "data": {
      "text/html": [
       "\n",
       "    <style>\n",
       "    table.sudoku span{\n",
       "    color:#aaaaaa;\n",
       "    }\n",
       "\n",
       "    table.sudoku td{\n",
       "    width: 30px;\n",
       "    height: 30px;\n",
       "    text-align: center;\n",
       "    font-size: 20px;\n",
       "    }\n",
       "\n",
       "    table.sudoku tr.row0 td,\n",
       "    table.sudoku tr.row3 td,\n",
       "    table.sudoku tr.row6 td\n",
       "    {\n",
       "    border-top:2px solid;\n",
       "    }\n",
       "\n",
       "    table.sudoku tr.row8 td{\n",
       "    border-bottom:2px solid;\n",
       "    }\n",
       "\n",
       "    table.sudoku td.col0,\n",
       "    table.sudoku td.col3,\n",
       "    table.sudoku td.col6{\n",
       "    border-left:2px solid;\n",
       "    }\n",
       "\n",
       "    table.sudoku td.col8{\n",
       "    border-right:2px solid;\n",
       "    }\n",
       "\n",
       "    table.sudoku .highlight{\n",
       "    color: black;\n",
       "    }\n",
       "    </style>\n",
       "    <table class=\"sudoku\"><tr class=\"row0\"><td class=\"col0\"><span class=\"highlight\"> </span></td><td class=\"col1\"><span class=\"highlight\"> </span></td><td class=\"col2\"><span class=\"highlight\"> </span></td><td class=\"col3\"><span class=\"highlight\"> </span></td><td class=\"col4\"><span class=\"highlight\"> </span></td><td class=\"col5\"><span class=\"highlight\"> </span></td><td class=\"col6\"><span class=\"highlight\">1</span></td><td class=\"col7\"><span class=\"highlight\">8</span></td><td class=\"col8\"><span class=\"highlight\">5</span></td></tr><tr class=\"row1\"><td class=\"col0\"><span class=\"highlight\"> </span></td><td class=\"col1\"><span class=\"highlight\"> </span></td><td class=\"col2\"><span class=\"highlight\">7</span></td><td class=\"col3\"><span class=\"highlight\"> </span></td><td class=\"col4\"><span class=\"highlight\">3</span></td><td class=\"col5\"><span class=\"highlight\"> </span></td><td class=\"col6\"><span class=\"highlight\"> </span></td><td class=\"col7\"><span class=\"highlight\"> </span></td><td class=\"col8\"><span class=\"highlight\"> </span></td></tr><tr class=\"row2\"><td class=\"col0\"><span class=\"highlight\"> </span></td><td class=\"col1\"><span class=\"highlight\"> </span></td><td class=\"col2\"><span class=\"highlight\"> </span></td><td class=\"col3\"><span class=\"highlight\"> </span></td><td class=\"col4\"><span class=\"highlight\">2</span></td><td class=\"col5\"><span class=\"highlight\">1</span></td><td class=\"col6\"><span class=\"highlight\">4</span></td><td class=\"col7\"><span class=\"highlight\"> </span></td><td class=\"col8\"><span class=\"highlight\"> </span></td></tr><tr class=\"row3\"><td class=\"col0\"><span class=\"highlight\">8</span></td><td class=\"col1\"><span class=\"highlight\"> </span></td><td class=\"col2\"><span class=\"highlight\"> </span></td><td class=\"col3\"><span class=\"highlight\"> </span></td><td class=\"col4\"><span class=\"highlight\"> </span></td><td class=\"col5\"><span class=\"highlight\"> </span></td><td class=\"col6\"><span class=\"highlight\"> </span></td><td class=\"col7\"><span class=\"highlight\">2</span></td><td class=\"col8\"><span class=\"highlight\"> </span></td></tr><tr class=\"row4\"><td class=\"col0\"><span class=\"highlight\"> </span></td><td class=\"col1\"><span class=\"highlight\"> </span></td><td class=\"col2\"><span class=\"highlight\">3</span></td><td class=\"col3\"><span class=\"highlight\">9</span></td><td class=\"col4\"><span class=\"highlight\"> </span></td><td class=\"col5\"><span class=\"highlight\">5</span></td><td class=\"col6\"><span class=\"highlight\">6</span></td><td class=\"col7\"><span class=\"highlight\"> </span></td><td class=\"col8\"><span class=\"highlight\"> </span></td></tr><tr class=\"row5\"><td class=\"col0\"><span class=\"highlight\"> </span></td><td class=\"col1\"><span class=\"highlight\">5</span></td><td class=\"col2\"><span class=\"highlight\"> </span></td><td class=\"col3\"><span class=\"highlight\"> </span></td><td class=\"col4\"><span class=\"highlight\"> </span></td><td class=\"col5\"><span class=\"highlight\"> </span></td><td class=\"col6\"><span class=\"highlight\"> </span></td><td class=\"col7\"><span class=\"highlight\"> </span></td><td class=\"col8\"><span class=\"highlight\">4</span></td></tr><tr class=\"row6\"><td class=\"col0\"><span class=\"highlight\"> </span></td><td class=\"col1\"><span class=\"highlight\"> </span></td><td class=\"col2\"><span class=\"highlight\">4</span></td><td class=\"col3\"><span class=\"highlight\">8</span></td><td class=\"col4\"><span class=\"highlight\">6</span></td><td class=\"col5\"><span class=\"highlight\"> </span></td><td class=\"col6\"><span class=\"highlight\"> </span></td><td class=\"col7\"><span class=\"highlight\"> </span></td><td class=\"col8\"><span class=\"highlight\"> </span></td></tr><tr class=\"row7\"><td class=\"col0\"><span class=\"highlight\"> </span></td><td class=\"col1\"><span class=\"highlight\"> </span></td><td class=\"col2\"><span class=\"highlight\"> </span></td><td class=\"col3\"><span class=\"highlight\"> </span></td><td class=\"col4\"><span class=\"highlight\">4</span></td><td class=\"col5\"><span class=\"highlight\"> </span></td><td class=\"col6\"><span class=\"highlight\">3</span></td><td class=\"col7\"><span class=\"highlight\"> </span></td><td class=\"col8\"><span class=\"highlight\"> </span></td></tr><tr class=\"row8\"><td class=\"col0\"><span class=\"highlight\">9</span></td><td class=\"col1\"><span class=\"highlight\">3</span></td><td class=\"col2\"><span class=\"highlight\">1</span></td><td class=\"col3\"><span class=\"highlight\"> </span></td><td class=\"col4\"><span class=\"highlight\"> </span></td><td class=\"col5\"><span class=\"highlight\"> </span></td><td class=\"col6\"><span class=\"highlight\"> </span></td><td class=\"col7\"><span class=\"highlight\"> </span></td><td class=\"col8\"><span class=\"highlight\"> </span></td></tr></table>"
      ]
     },
     "metadata": {},
     "output_type": "display_data"
    }
   ],
   "source": [
    "from utils import display_sudoku\n",
    "\n",
    "sudoku_str = \"\"\"\n",
    "000000185\n",
    "007030000\n",
    "000021400\n",
    "800000020\n",
    "003905600\n",
    "050000004\n",
    "004860000\n",
    "000040300\n",
    "931000000\"\"\"\n",
    "\n",
    "sudoku = np.array([[int(x) for x in line]\n",
    "                   for line in sudoku_str.strip().split()])\n",
    "\n",
    "display_sudoku(sudoku)"
   ]
  },
  {
   "cell_type": "markdown",
   "metadata": {},
   "source": [
    "3×3のブロックに区切られた 9×9の正方形の枠内に1〜9までの数字を入れるペンシルパズル。https://ja.wikipedia.org/wiki/%E6%95%B0%E7%8B%AC\n",
    "\n",
    "数独をCNF式変換すれば、`CoSAT`で解けます。\n",
    "\n",
    "各個枠に九つのブール変数を振り分け、`bools[行, 列, 数字]`。例えば、`bools[1, 2, 3] == True`の場合、1行、2列の数値は3です。\n",
    "\n",
    "* 各個枠に一つの数字を入れる\n",
    "\n",
    "> 例えば、1行1列目のブロックに対して、`bools[1, 1, 1..9]`の九つの変数の中一つしか`True`です。\n",
    "\n",
    "* 各個列に重複な数字がない\n",
    "\n",
    "> 例えば、2列目には一つの1しかない： `bools[1..9, 2, 1]`の九つの変数の中一つしか`True`です。\n",
    "\n",
    "* 各個行に重複な数字がない\n",
    "\n",
    "> 例えば、3行目には一つの6しかない： `bools[3, 1..9, 6]`の九つの変数の中一つしか`True`です。\n",
    "\n",
    "* 各個ブロックに重複な数字がない\n",
    "\n",
    "> 例えば、1ブロック目には一つの7しかない： `bools[1..3, 1..3, 7]`の九つの変数の中一つしか`True`です。\n",
    "\n",
    "* 初期数字があるブロック\n",
    "\n",
    "> 例えば、7列1行目には1がある：`bools[1, 7, 1]`は`True`です。"
   ]
  },
  {
   "cell_type": "code",
   "execution_count": 8,
   "metadata": {
    "collapsed": true
   },
   "outputs": [],
   "source": [
    "import numpy as np\n",
    "from itertools import combinations\n",
    "from cycosat import CoSAT\n",
    "from utils import display_sudoku\n",
    "\n",
    "class SudokuSolver:\n",
    "    def __init__(self):\n",
    "\n",
    "        index = np.array(list(combinations(range(9), 2)))\n",
    "        self.bools = bools = np.arange(1, 9*9*9+1).reshape(9, 9, 9)\n",
    "\n",
    "        def get_conditions(bools):\n",
    "            conditions = []\n",
    "            conditions.extend( bools.reshape(-1, 9).tolist() ) \n",
    "            conditions.extend( (-bools[:,:,index].reshape(-1, 2)).tolist() ) \n",
    "            return conditions\n",
    "            \n",
    "        c1 = get_conditions(bools) \n",
    "        c2 = get_conditions( np.swapaxes(bools, 1, 2) ) \n",
    "        c3 = get_conditions( np.swapaxes(bools, 0, 2) ) \n",
    "        \n",
    "        tmp = np.swapaxes(bools.reshape(3, 3, 3, 3, 9), 1, 2).reshape(9, 9, 9)\n",
    "        c4 = get_conditions( np.swapaxes(tmp, 1, 2) )\n",
    "        \n",
    "        self.conditions = []\n",
    "        for c in (c1, c2, c3, c4):\n",
    "            self.conditions.extend(c)\n",
    "            \n",
    "    def solve(self):\n",
    "        cells = self.cells\n",
    "        sat = CoSAT()\n",
    "        sat.add_clauses(self.conditions)\n",
    "        assumes = [self.bools[r, c, v-1] for (r, c), v in cells.items()]       \n",
    "        solution = sat.assume_solve(assumes)\n",
    "        if isinstance(solution, list):\n",
    "            res = np.array(sat.solve())\n",
    "            mask = (res > 0).reshape(9, 9, 9)\n",
    "            return (np.where(mask)[2]+1).reshape(9, 9)\n",
    "        else:\n",
    "            return None\n",
    "        \n",
    "    def show_solution(self):\n",
    "        display_sudoku(self.solve(), highlights=self.cells.keys())\n",
    "        \n",
    "    def load_str(self, sudoku_str):\n",
    "        sudoku = np.array([[int(x) for x in line]\n",
    "                   for line in sudoku_str.strip().split()])\n",
    "        rows, cols = np.where(sudoku != 0)\n",
    "        vals = sudoku[rows, cols]\n",
    "        self.cells = {(r, c): v for r, c, v in zip(rows, cols, vals)}"
   ]
  },
  {
   "cell_type": "code",
   "execution_count": 9,
   "metadata": {
    "collapsed": false
   },
   "outputs": [
    {
     "data": {
      "text/html": [
       "\n",
       "    <style>\n",
       "    table.sudoku span{\n",
       "    color:#aaaaaa;\n",
       "    }\n",
       "\n",
       "    table.sudoku td{\n",
       "    width: 30px;\n",
       "    height: 30px;\n",
       "    text-align: center;\n",
       "    font-size: 20px;\n",
       "    }\n",
       "\n",
       "    table.sudoku tr.row0 td,\n",
       "    table.sudoku tr.row3 td,\n",
       "    table.sudoku tr.row6 td\n",
       "    {\n",
       "    border-top:2px solid;\n",
       "    }\n",
       "\n",
       "    table.sudoku tr.row8 td{\n",
       "    border-bottom:2px solid;\n",
       "    }\n",
       "\n",
       "    table.sudoku td.col0,\n",
       "    table.sudoku td.col3,\n",
       "    table.sudoku td.col6{\n",
       "    border-left:2px solid;\n",
       "    }\n",
       "\n",
       "    table.sudoku td.col8{\n",
       "    border-right:2px solid;\n",
       "    }\n",
       "\n",
       "    table.sudoku .highlight{\n",
       "    color: black;\n",
       "    }\n",
       "    </style>\n",
       "    <table class=\"sudoku\"><tr class=\"row0\"><td class=\"col0\"><span class=\"highlight\">3</span></td><td class=\"col1\"><span class=\"highlight\">6</span></td><td class=\"col2\"><span class=\"highlight\">2</span></td><td class=\"col3\"><span class=\"highlight\">7</span></td><td class=\"col4\"><span class=\"highlight\">9</span></td><td class=\"col5\"><span class=\"highlight\">4</span></td><td class=\"col6\"><span class=\"\">1</span></td><td class=\"col7\"><span class=\"\">8</span></td><td class=\"col8\"><span class=\"\">5</span></td></tr><tr class=\"row1\"><td class=\"col0\"><span class=\"highlight\">4</span></td><td class=\"col1\"><span class=\"highlight\">1</span></td><td class=\"col2\"><span class=\"\">7</span></td><td class=\"col3\"><span class=\"highlight\">5</span></td><td class=\"col4\"><span class=\"\">3</span></td><td class=\"col5\"><span class=\"highlight\">8</span></td><td class=\"col6\"><span class=\"highlight\">2</span></td><td class=\"col7\"><span class=\"highlight\">6</span></td><td class=\"col8\"><span class=\"highlight\">9</span></td></tr><tr class=\"row2\"><td class=\"col0\"><span class=\"highlight\">5</span></td><td class=\"col1\"><span class=\"highlight\">9</span></td><td class=\"col2\"><span class=\"highlight\">8</span></td><td class=\"col3\"><span class=\"highlight\">6</span></td><td class=\"col4\"><span class=\"\">2</span></td><td class=\"col5\"><span class=\"\">1</span></td><td class=\"col6\"><span class=\"\">4</span></td><td class=\"col7\"><span class=\"highlight\">3</span></td><td class=\"col8\"><span class=\"highlight\">7</span></td></tr><tr class=\"row3\"><td class=\"col0\"><span class=\"\">8</span></td><td class=\"col1\"><span class=\"highlight\">7</span></td><td class=\"col2\"><span class=\"highlight\">9</span></td><td class=\"col3\"><span class=\"highlight\">4</span></td><td class=\"col4\"><span class=\"highlight\">1</span></td><td class=\"col5\"><span class=\"highlight\">6</span></td><td class=\"col6\"><span class=\"highlight\">5</span></td><td class=\"col7\"><span class=\"\">2</span></td><td class=\"col8\"><span class=\"highlight\">3</span></td></tr><tr class=\"row4\"><td class=\"col0\"><span class=\"highlight\">2</span></td><td class=\"col1\"><span class=\"highlight\">4</span></td><td class=\"col2\"><span class=\"\">3</span></td><td class=\"col3\"><span class=\"\">9</span></td><td class=\"col4\"><span class=\"highlight\">7</span></td><td class=\"col5\"><span class=\"\">5</span></td><td class=\"col6\"><span class=\"\">6</span></td><td class=\"col7\"><span class=\"highlight\">1</span></td><td class=\"col8\"><span class=\"highlight\">8</span></td></tr><tr class=\"row5\"><td class=\"col0\"><span class=\"highlight\">1</span></td><td class=\"col1\"><span class=\"\">5</span></td><td class=\"col2\"><span class=\"highlight\">6</span></td><td class=\"col3\"><span class=\"highlight\">3</span></td><td class=\"col4\"><span class=\"highlight\">8</span></td><td class=\"col5\"><span class=\"highlight\">2</span></td><td class=\"col6\"><span class=\"highlight\">7</span></td><td class=\"col7\"><span class=\"highlight\">9</span></td><td class=\"col8\"><span class=\"\">4</span></td></tr><tr class=\"row6\"><td class=\"col0\"><span class=\"highlight\">7</span></td><td class=\"col1\"><span class=\"highlight\">2</span></td><td class=\"col2\"><span class=\"\">4</span></td><td class=\"col3\"><span class=\"\">8</span></td><td class=\"col4\"><span class=\"\">6</span></td><td class=\"col5\"><span class=\"highlight\">3</span></td><td class=\"col6\"><span class=\"highlight\">9</span></td><td class=\"col7\"><span class=\"highlight\">5</span></td><td class=\"col8\"><span class=\"highlight\">1</span></td></tr><tr class=\"row7\"><td class=\"col0\"><span class=\"highlight\">6</span></td><td class=\"col1\"><span class=\"highlight\">8</span></td><td class=\"col2\"><span class=\"highlight\">5</span></td><td class=\"col3\"><span class=\"highlight\">1</span></td><td class=\"col4\"><span class=\"\">4</span></td><td class=\"col5\"><span class=\"highlight\">9</span></td><td class=\"col6\"><span class=\"\">3</span></td><td class=\"col7\"><span class=\"highlight\">7</span></td><td class=\"col8\"><span class=\"highlight\">2</span></td></tr><tr class=\"row8\"><td class=\"col0\"><span class=\"\">9</span></td><td class=\"col1\"><span class=\"\">3</span></td><td class=\"col2\"><span class=\"\">1</span></td><td class=\"col3\"><span class=\"highlight\">2</span></td><td class=\"col4\"><span class=\"highlight\">5</span></td><td class=\"col5\"><span class=\"highlight\">7</span></td><td class=\"col6\"><span class=\"highlight\">8</span></td><td class=\"col7\"><span class=\"highlight\">4</span></td><td class=\"col8\"><span class=\"highlight\">6</span></td></tr></table>"
      ]
     },
     "metadata": {},
     "output_type": "display_data"
    }
   ],
   "source": [
    "solver = SudokuSolver()\n",
    "solver.load_str(sudoku_str)\n",
    "solver.show_solution()"
   ]
  },
  {
   "cell_type": "markdown",
   "metadata": {},
   "source": [
    "## マインスイーパー"
   ]
  },
  {
   "cell_type": "markdown",
   "metadata": {},
   "source": [
    "マインスイーパーも数独と同じように、CNF式に変換できます。"
   ]
  },
  {
   "cell_type": "markdown",
   "metadata": {},
   "source": [
    "例えば、8個の隣接ブロックには三つのマインがある場合を考えます。8個のブロックにマインがあるかどうかを8個のブール変数で表す。\n",
    "\n",
    "* 8個の変数を任意四つを選択し、この四つは全部`True`になることができません。例えば`A, B, C, D`を選択した場合、`~(A & B & C & D) -> ~A | ~B | ~C | ~D`。\n",
    "\n",
    "* 任意六つを選択し、この六つには必ず一つの`True`があります。例えば`A, B, C, D, E, F`を選択した場合、`A | B | C | D | E | F`。"
   ]
  },
  {
   "cell_type": "code",
   "execution_count": 36,
   "metadata": {
    "collapsed": false
   },
   "outputs": [
    {
     "data": {
      "text/plain": [
       "[-1, -1, -1, -1, -1, 1, 1, 1]"
      ]
     },
     "execution_count": 36,
     "metadata": {},
     "output_type": "execute_result"
    }
   ],
   "source": [
    "from itertools import combinations\n",
    "from cycosat import CoSAT\n",
    "\n",
    "variables = list(range(1, 9))\n",
    "clauses = []\n",
    "for vs in combinations(variables, 4):\n",
    "    clauses.append([-x for x in vs])\n",
    "\n",
    "for vs in combinations(variables, 6):\n",
    "    clauses.append(vs)\n",
    "\n",
    "sat = CoSAT()\n",
    "sat.add_clauses(clauses)\n",
    "sat.solve()"
   ]
  },
  {
   "cell_type": "markdown",
   "metadata": {},
   "source": [
    "### 画像を数字に変換"
   ]
  },
  {
   "cell_type": "markdown",
   "metadata": {},
   "source": [
    "![](data/mine01.png)"
   ]
  },
  {
   "cell_type": "code",
   "execution_count": 40,
   "metadata": {
    "collapsed": false
   },
   "outputs": [
    {
     "data": {
      "text/html": [
       "\n",
       "    <style>\n",
       "    table.mine td{\n",
       "    width: 20px;\n",
       "    height:20px;\n",
       "    text-align: center;\n",
       "    padding: 1px;\n",
       "    }\n",
       "    </style>\n",
       "    <table class=\"mine\"><tr class=\"row0\"><td class=\"col0\"> </td><td class=\"col1\"> </td><td class=\"col2\"> </td><td class=\"col3\"> </td><td class=\"col4\"> </td><td class=\"col5\">2</td><td class=\"col6\">1</td><td class=\"col7\">1</td><td class=\"col8\">0</td><td class=\"col9\">0</td><td class=\"col10\">1</td><td class=\"col11\"> </td><td class=\"col12\"> </td><td class=\"col13\">1</td><td class=\"col14\">1</td><td class=\"col15\"> </td><td class=\"col16\">2</td><td class=\"col17\"> </td><td class=\"col18\">1</td><td class=\"col19\">2</td><td class=\"col20\"> </td><td class=\"col21\"> </td><td class=\"col22\"> </td><td class=\"col23\"> </td><td class=\"col24\"> </td><td class=\"col25\">1</td><td class=\"col26\">0</td><td class=\"col27\">0</td><td class=\"col28\">1</td><td class=\"col29\"> </td></tr><tr class=\"row1\"><td class=\"col0\"> </td><td class=\"col1\"> </td><td class=\"col2\"> </td><td class=\"col3\"> </td><td class=\"col4\"> </td><td class=\"col5\">3</td><td class=\"col6\"> </td><td class=\"col7\">2</td><td class=\"col8\">0</td><td class=\"col9\">0</td><td class=\"col10\">1</td><td class=\"col11\">3</td><td class=\"col12\">3</td><td class=\"col13\">2</td><td class=\"col14\">1</td><td class=\"col15\">1</td><td class=\"col16\">2</td><td class=\"col17\">2</td><td class=\"col18\">2</td><td class=\"col19\">3</td><td class=\"col20\"> </td><td class=\"col21\">6</td><td class=\"col22\"> </td><td class=\"col23\"> </td><td class=\"col24\"> </td><td class=\"col25\">2</td><td class=\"col26\">2</td><td class=\"col27\">1</td><td class=\"col28\">2</td><td class=\"col29\">1</td></tr><tr class=\"row2\"><td class=\"col0\"> </td><td class=\"col1\"> </td><td class=\"col2\"> </td><td class=\"col3\"> </td><td class=\"col4\"> </td><td class=\"col5\">3</td><td class=\"col6\"> </td><td class=\"col7\">2</td><td class=\"col8\">1</td><td class=\"col9\">1</td><td class=\"col10\">1</td><td class=\"col11\">1</td><td class=\"col12\"> </td><td class=\"col13\">1</td><td class=\"col14\">0</td><td class=\"col15\">0</td><td class=\"col16\">0</td><td class=\"col17\">1</td><td class=\"col18\"> </td><td class=\"col19\">2</td><td class=\"col20\">3</td><td class=\"col21\"> </td><td class=\"col22\"> </td><td class=\"col23\">4</td><td class=\"col24\">2</td><td class=\"col25\"> </td><td class=\"col26\">2</td><td class=\"col27\"> </td><td class=\"col28\">1</td><td class=\"col29\">0</td></tr><tr class=\"row3\"><td class=\"col0\"> </td><td class=\"col1\"> </td><td class=\"col2\"> </td><td class=\"col3\"> </td><td class=\"col4\"> </td><td class=\"col5\">3</td><td class=\"col6\">1</td><td class=\"col7\">2</td><td class=\"col8\">2</td><td class=\"col9\"> </td><td class=\"col10\">1</td><td class=\"col11\">1</td><td class=\"col12\">2</td><td class=\"col13\">2</td><td class=\"col14\">1</td><td class=\"col15\">0</td><td class=\"col16\">0</td><td class=\"col17\">2</td><td class=\"col18\">3</td><td class=\"col19\">3</td><td class=\"col20\">3</td><td class=\"col21\"> </td><td class=\"col22\"> </td><td class=\"col23\">2</td><td class=\"col24\">1</td><td class=\"col25\">1</td><td class=\"col26\">2</td><td class=\"col27\">1</td><td class=\"col28\">1</td><td class=\"col29\">0</td></tr><tr class=\"row4\"><td class=\"col0\"> </td><td class=\"col1\"> </td><td class=\"col2\"> </td><td class=\"col3\"> </td><td class=\"col4\"> </td><td class=\"col5\">4</td><td class=\"col6\">3</td><td class=\"col7\">3</td><td class=\"col8\"> </td><td class=\"col9\">2</td><td class=\"col10\">1</td><td class=\"col11\">0</td><td class=\"col12\">2</td><td class=\"col13\"> </td><td class=\"col14\">2</td><td class=\"col15\">0</td><td class=\"col16\">0</td><td class=\"col17\">2</td><td class=\"col18\"> </td><td class=\"col19\"> </td><td class=\"col20\">2</td><td class=\"col21\">2</td><td class=\"col22\">2</td><td class=\"col23\">1</td><td class=\"col24\">0</td><td class=\"col25\">0</td><td class=\"col26\">0</td><td class=\"col27\">0</td><td class=\"col28\">0</td><td class=\"col29\">0</td></tr><tr class=\"row5\"><td class=\"col0\"> </td><td class=\"col1\"> </td><td class=\"col2\"> </td><td class=\"col3\"> </td><td class=\"col4\"> </td><td class=\"col5\"> </td><td class=\"col6\"> </td><td class=\"col7\"> </td><td class=\"col8\">2</td><td class=\"col9\">1</td><td class=\"col10\">0</td><td class=\"col11\">0</td><td class=\"col12\">2</td><td class=\"col13\"> </td><td class=\"col14\">2</td><td class=\"col15\">0</td><td class=\"col16\">0</td><td class=\"col17\">2</td><td class=\"col18\"> </td><td class=\"col19\">3</td><td class=\"col20\">1</td><td class=\"col21\">0</td><td class=\"col22\">0</td><td class=\"col23\">0</td><td class=\"col24\">0</td><td class=\"col25\">0</td><td class=\"col26\">1</td><td class=\"col27\">1</td><td class=\"col28\">1</td><td class=\"col29\">0</td></tr><tr class=\"row6\"><td class=\"col0\"> </td><td class=\"col1\"> </td><td class=\"col2\"> </td><td class=\"col3\"> </td><td class=\"col4\"> </td><td class=\"col5\"> </td><td class=\"col6\"> </td><td class=\"col7\">4</td><td class=\"col8\">2</td><td class=\"col9\">2</td><td class=\"col10\">1</td><td class=\"col11\">1</td><td class=\"col12\">1</td><td class=\"col13\">1</td><td class=\"col14\">1</td><td class=\"col15\">0</td><td class=\"col16\">0</td><td class=\"col17\">1</td><td class=\"col18\">1</td><td class=\"col19\">1</td><td class=\"col20\">0</td><td class=\"col21\">0</td><td class=\"col22\">0</td><td class=\"col23\">0</td><td class=\"col24\">0</td><td class=\"col25\">0</td><td class=\"col26\">1</td><td class=\"col27\"> </td><td class=\"col28\">1</td><td class=\"col29\">0</td></tr><tr class=\"row7\"><td class=\"col0\"> </td><td class=\"col1\"> </td><td class=\"col2\"> </td><td class=\"col3\"> </td><td class=\"col4\"> </td><td class=\"col5\"> </td><td class=\"col6\"> </td><td class=\"col7\">3</td><td class=\"col8\"> </td><td class=\"col9\">5</td><td class=\"col10\"> </td><td class=\"col11\">2</td><td class=\"col12\">0</td><td class=\"col13\">0</td><td class=\"col14\">0</td><td class=\"col15\">0</td><td class=\"col16\">0</td><td class=\"col17\">1</td><td class=\"col18\">1</td><td class=\"col19\">1</td><td class=\"col20\">1</td><td class=\"col21\">1</td><td class=\"col22\">1</td><td class=\"col23\">1</td><td class=\"col24\">1</td><td class=\"col25\">1</td><td class=\"col26\">2</td><td class=\"col27\">2</td><td class=\"col28\">2</td><td class=\"col29\">0</td></tr><tr class=\"row8\"><td class=\"col0\"> </td><td class=\"col1\"> </td><td class=\"col2\"> </td><td class=\"col3\"> </td><td class=\"col4\"> </td><td class=\"col5\"> </td><td class=\"col6\">2</td><td class=\"col7\">3</td><td class=\"col8\"> </td><td class=\"col9\"> </td><td class=\"col10\"> </td><td class=\"col11\">2</td><td class=\"col12\">0</td><td class=\"col13\">0</td><td class=\"col14\">1</td><td class=\"col15\">1</td><td class=\"col16\">1</td><td class=\"col17\">1</td><td class=\"col18\"> </td><td class=\"col19\">1</td><td class=\"col20\">1</td><td class=\"col21\"> </td><td class=\"col22\">1</td><td class=\"col23\">1</td><td class=\"col24\"> </td><td class=\"col25\">1</td><td class=\"col26\">1</td><td class=\"col27\"> </td><td class=\"col28\">3</td><td class=\"col29\">2</td></tr><tr class=\"row9\"><td class=\"col0\"> </td><td class=\"col1\"> </td><td class=\"col2\"> </td><td class=\"col3\"> </td><td class=\"col4\"> </td><td class=\"col5\"> </td><td class=\"col6\"> </td><td class=\"col7\"> </td><td class=\"col8\"> </td><td class=\"col9\"> </td><td class=\"col10\">3</td><td class=\"col11\">1</td><td class=\"col12\">0</td><td class=\"col13\">0</td><td class=\"col14\">1</td><td class=\"col15\"> </td><td class=\"col16\">1</td><td class=\"col17\">1</td><td class=\"col18\">1</td><td class=\"col19\">1</td><td class=\"col20\">2</td><td class=\"col21\">2</td><td class=\"col22\">2</td><td class=\"col23\">1</td><td class=\"col24\">1</td><td class=\"col25\">1</td><td class=\"col26\">1</td><td class=\"col27\">2</td><td class=\"col28\"> </td><td class=\"col29\"> </td></tr><tr class=\"row10\"><td class=\"col0\"> </td><td class=\"col1\"> </td><td class=\"col2\"> </td><td class=\"col3\"> </td><td class=\"col4\"> </td><td class=\"col5\"> </td><td class=\"col6\"> </td><td class=\"col7\"> </td><td class=\"col8\"> </td><td class=\"col9\"> </td><td class=\"col10\">2</td><td class=\"col11\">2</td><td class=\"col12\">3</td><td class=\"col13\">2</td><td class=\"col14\">2</td><td class=\"col15\">1</td><td class=\"col16\">1</td><td class=\"col17\">1</td><td class=\"col18\">1</td><td class=\"col19\">1</td><td class=\"col20\">1</td><td class=\"col21\"> </td><td class=\"col22\">1</td><td class=\"col23\">0</td><td class=\"col24\">0</td><td class=\"col25\">0</td><td class=\"col26\">1</td><td class=\"col27\">2</td><td class=\"col28\">3</td><td class=\"col29\"> </td></tr><tr class=\"row11\"><td class=\"col0\"> </td><td class=\"col1\"> </td><td class=\"col2\"> </td><td class=\"col3\"> </td><td class=\"col4\"> </td><td class=\"col5\"> </td><td class=\"col6\"> </td><td class=\"col7\"> </td><td class=\"col8\"> </td><td class=\"col9\">2</td><td class=\"col10\">2</td><td class=\"col11\"> </td><td class=\"col12\"> </td><td class=\"col13\"> </td><td class=\"col14\">3</td><td class=\"col15\">3</td><td class=\"col16\">3</td><td class=\"col17\">3</td><td class=\"col18\"> </td><td class=\"col19\">2</td><td class=\"col20\">3</td><td class=\"col21\">4</td><td class=\"col22\">3</td><td class=\"col23\">1</td><td class=\"col24\">0</td><td class=\"col25\">0</td><td class=\"col26\">2</td><td class=\"col27\"> </td><td class=\"col28\"> </td><td class=\"col29\"> </td></tr><tr class=\"row12\"><td class=\"col0\"> </td><td class=\"col1\"> </td><td class=\"col2\"> </td><td class=\"col3\"> </td><td class=\"col4\"> </td><td class=\"col5\"> </td><td class=\"col6\"> </td><td class=\"col7\"> </td><td class=\"col8\"> </td><td class=\"col9\"> </td><td class=\"col10\"> </td><td class=\"col11\"> </td><td class=\"col12\"> </td><td class=\"col13\">5</td><td class=\"col14\"> </td><td class=\"col15\"> </td><td class=\"col16\"> </td><td class=\"col17\"> </td><td class=\"col18\">4</td><td class=\"col19\">4</td><td class=\"col20\"> </td><td class=\"col21\"> </td><td class=\"col22\"> </td><td class=\"col23\">2</td><td class=\"col24\">2</td><td class=\"col25\">1</td><td class=\"col26\">3</td><td class=\"col27\"> </td><td class=\"col28\"> </td><td class=\"col29\"> </td></tr><tr class=\"row13\"><td class=\"col0\"> </td><td class=\"col1\"> </td><td class=\"col2\"> </td><td class=\"col3\"> </td><td class=\"col4\"> </td><td class=\"col5\"> </td><td class=\"col6\"> </td><td class=\"col7\"> </td><td class=\"col8\"> </td><td class=\"col9\"> </td><td class=\"col10\"> </td><td class=\"col11\"> </td><td class=\"col12\"> </td><td class=\"col13\"> </td><td class=\"col14\"> </td><td class=\"col15\"> </td><td class=\"col16\"> </td><td class=\"col17\"> </td><td class=\"col18\"> </td><td class=\"col19\"> </td><td class=\"col20\"> </td><td class=\"col21\"> </td><td class=\"col22\"> </td><td class=\"col23\"> </td><td class=\"col24\"> </td><td class=\"col25\"> </td><td class=\"col26\"> </td><td class=\"col27\"> </td><td class=\"col28\"> </td><td class=\"col29\"> </td></tr><tr class=\"row14\"><td class=\"col0\"> </td><td class=\"col1\"> </td><td class=\"col2\"> </td><td class=\"col3\"> </td><td class=\"col4\"> </td><td class=\"col5\"> </td><td class=\"col6\"> </td><td class=\"col7\"> </td><td class=\"col8\"> </td><td class=\"col9\"> </td><td class=\"col10\"> </td><td class=\"col11\"> </td><td class=\"col12\"> </td><td class=\"col13\"> </td><td class=\"col14\"> </td><td class=\"col15\"> </td><td class=\"col16\"> </td><td class=\"col17\"> </td><td class=\"col18\"> </td><td class=\"col19\"> </td><td class=\"col20\"> </td><td class=\"col21\"> </td><td class=\"col22\"> </td><td class=\"col23\"> </td><td class=\"col24\"> </td><td class=\"col25\"> </td><td class=\"col26\"> </td><td class=\"col27\"> </td><td class=\"col28\"> </td><td class=\"col29\"> </td></tr><tr class=\"row15\"><td class=\"col0\"> </td><td class=\"col1\"> </td><td class=\"col2\"> </td><td class=\"col3\"> </td><td class=\"col4\"> </td><td class=\"col5\"> </td><td class=\"col6\"> </td><td class=\"col7\"> </td><td class=\"col8\"> </td><td class=\"col9\"> </td><td class=\"col10\"> </td><td class=\"col11\"> </td><td class=\"col12\"> </td><td class=\"col13\"> </td><td class=\"col14\"> </td><td class=\"col15\"> </td><td class=\"col16\"> </td><td class=\"col17\"> </td><td class=\"col18\"> </td><td class=\"col19\"> </td><td class=\"col20\"> </td><td class=\"col21\"> </td><td class=\"col22\"> </td><td class=\"col23\"> </td><td class=\"col24\"> </td><td class=\"col25\"> </td><td class=\"col26\"> </td><td class=\"col27\"> </td><td class=\"col28\"> </td><td class=\"col29\"> </td></tr></table>"
      ]
     },
     "metadata": {},
     "output_type": "display_data"
    }
   ],
   "source": [
    "import numpy as np\n",
    "import cv2\n",
    "from scipy.spatial import distance\n",
    "from utils import display_mine\n",
    "\n",
    "X0, Y0, SIZE, COLS, ROWS = 30, 30, 18, 30, 16\n",
    "SHAPE = ROWS, SIZE, COLS, SIZE, -1\n",
    "\n",
    "mine_area = np.s_[Y0:Y0 + SIZE * ROWS, X0:X0 + SIZE * COLS, :]\n",
    "\n",
    "img_init = cv2.imread(\"./data/mine_init.png\")[mine_area]\n",
    "img_numbers = cv2.imread(\"./data/mine_numbers.png\")\n",
    "\n",
    "def read_mine_image(fn):\n",
    "    img_mine = cv2.imread(fn)[mine_area]\n",
    "    mask = (img_init != img_mine).reshape(SHAPE)\n",
    "    mask_mean = np.mean(mask, axis=(1, 3, 4))\n",
    "    block_mask = mask_mean > 0.3\n",
    "\n",
    "    img_mine2 = np.swapaxes(img_mine.reshape(SHAPE), 1, 2)\n",
    "\n",
    "    blocks = img_mine2[block_mask][:, 3:-3, 3:-3, :].copy()\n",
    "    blocks = blocks.reshape(blocks.shape[0], -1)\n",
    "\n",
    "    img_numbers.shape = 8, -1\n",
    "    numbers = np.argmin(distance.cdist(blocks, img_numbers), axis=1)\n",
    "    rows, cols = np.where(block_mask)\n",
    "\n",
    "    board = np.full((ROWS, COLS), u\" \", dtype=\"str\")\n",
    "    board[rows, cols] = numbers.astype(str)\n",
    "    return rows, cols, numbers, board\n",
    "\n",
    "rows, cols, numbers, board = read_mine_image(\"./data/mine01.png\")\n",
    "display_mine(board)"
   ]
  },
  {
   "cell_type": "markdown",
   "metadata": {},
   "source": [
    "### マインスイーパーを解く"
   ]
  },
  {
   "cell_type": "code",
   "execution_count": 48,
   "metadata": {
    "collapsed": false
   },
   "outputs": [],
   "source": [
    "from itertools import combinations\n",
    "from cycosat import CoSAT\n",
    "from collections import defaultdict\n",
    "\n",
    "variable_neighbors = defaultdict(list)\n",
    "\n",
    "directs = [(-1, -1), (-1,  0), (-1,  1), (0, -1),\n",
    "           (0,  1), (1, -1), (1,  0), (1,  1)]\n",
    "\n",
    "variables = np.arange(1, COLS * ROWS + 1).reshape(ROWS, COLS)\n",
    "\n",
    "for (i, j), v in np.ndenumerate(variables):\n",
    "    for di, dj in directs:\n",
    "        i2 = i + di\n",
    "        j2 = j + dj\n",
    "        if 0 <= i2 < ROWS and 0 <= j2 < COLS:\n",
    "            variable_neighbors[v].append(variables[i2, j2])\n",
    "\n",
    "def get_clauses(var_id, num):\n",
    "    clauses = []\n",
    "    neighbors = variable_neighbors[var_id]\n",
    "    neg_neighbors = [-x for x in neighbors]\n",
    "    clauses.extend(combinations(neg_neighbors, num + 1))\n",
    "    clauses.extend(combinations(neighbors, len(neighbors) - num + 1))\n",
    "    clauses.append([-var_id])\n",
    "    return clauses\n",
    "\n",
    "def solve_mine(rows, cols, numbers, board):\n",
    "    sat = CoSAT()\n",
    "    for var_id, num in zip(variables[rows, cols], numbers):\n",
    "        sat.add_clauses(get_clauses(var_id, num))\n",
    "    failed_assumes = sat.get_failed_assumes()\n",
    "    board = board.copy()\n",
    "\n",
    "    for v in failed_assumes:\n",
    "        av = abs(v)\n",
    "        col = (av - 1) % COLS\n",
    "        row = (av - 1) // COLS\n",
    "        if board[row, col] == \" \":\n",
    "            if v > 0:\n",
    "                board[row, col] = \"★\"\n",
    "            else:\n",
    "                board[row, col] = \"●\"\n",
    "    return board"
   ]
  },
  {
   "cell_type": "markdown",
   "metadata": {},
   "source": [
    "### すべてのマインスイーパー画像を解く"
   ]
  },
  {
   "cell_type": "code",
   "execution_count": 49,
   "metadata": {
    "collapsed": false
   },
   "outputs": [
    {
     "data": {
      "text/html": [
       "\n",
       "    <style>\n",
       "    table.mine td{\n",
       "    width: 20px;\n",
       "    height:20px;\n",
       "    text-align: center;\n",
       "    padding: 1px;\n",
       "    }\n",
       "    </style>\n",
       "    <table class=\"mine\"><tr class=\"row0\"><td class=\"col0\"> </td><td class=\"col1\"> </td><td class=\"col2\"> </td><td class=\"col3\"> </td><td class=\"col4\">●</td><td class=\"col5\">2</td><td class=\"col6\">1</td><td class=\"col7\">1</td><td class=\"col8\">0</td><td class=\"col9\">0</td><td class=\"col10\">1</td><td class=\"col11\">●</td><td class=\"col12\">●</td><td class=\"col13\">1</td><td class=\"col14\">1</td><td class=\"col15\">●</td><td class=\"col16\">2</td><td class=\"col17\">●</td><td class=\"col18\">1</td><td class=\"col19\">2</td><td class=\"col20\">●</td><td class=\"col21\"> </td><td class=\"col22\"> </td><td class=\"col23\"> </td><td class=\"col24\"> </td><td class=\"col25\">1</td><td class=\"col26\">0</td><td class=\"col27\">0</td><td class=\"col28\">1</td><td class=\"col29\">●</td></tr><tr class=\"row1\"><td class=\"col0\"> </td><td class=\"col1\"> </td><td class=\"col2\"> </td><td class=\"col3\"> </td><td class=\"col4\">★</td><td class=\"col5\">3</td><td class=\"col6\">●</td><td class=\"col7\">2</td><td class=\"col8\">0</td><td class=\"col9\">0</td><td class=\"col10\">1</td><td class=\"col11\">3</td><td class=\"col12\">3</td><td class=\"col13\">2</td><td class=\"col14\">1</td><td class=\"col15\">1</td><td class=\"col16\">2</td><td class=\"col17\">2</td><td class=\"col18\">2</td><td class=\"col19\">3</td><td class=\"col20\">●</td><td class=\"col21\">6</td><td class=\"col22\">●</td><td class=\"col23\"> </td><td class=\"col24\"> </td><td class=\"col25\">2</td><td class=\"col26\">2</td><td class=\"col27\">1</td><td class=\"col28\">2</td><td class=\"col29\">1</td></tr><tr class=\"row2\"><td class=\"col0\"> </td><td class=\"col1\"> </td><td class=\"col2\"> </td><td class=\"col3\"> </td><td class=\"col4\">★</td><td class=\"col5\">3</td><td class=\"col6\">●</td><td class=\"col7\">2</td><td class=\"col8\">1</td><td class=\"col9\">1</td><td class=\"col10\">1</td><td class=\"col11\">1</td><td class=\"col12\">●</td><td class=\"col13\">1</td><td class=\"col14\">0</td><td class=\"col15\">0</td><td class=\"col16\">0</td><td class=\"col17\">1</td><td class=\"col18\">●</td><td class=\"col19\">2</td><td class=\"col20\">3</td><td class=\"col21\">●</td><td class=\"col22\">●</td><td class=\"col23\">4</td><td class=\"col24\">2</td><td class=\"col25\">●</td><td class=\"col26\">2</td><td class=\"col27\">●</td><td class=\"col28\">1</td><td class=\"col29\">0</td></tr><tr class=\"row3\"><td class=\"col0\"> </td><td class=\"col1\"> </td><td class=\"col2\"> </td><td class=\"col3\"> </td><td class=\"col4\">●</td><td class=\"col5\">3</td><td class=\"col6\">1</td><td class=\"col7\">2</td><td class=\"col8\">2</td><td class=\"col9\">●</td><td class=\"col10\">1</td><td class=\"col11\">1</td><td class=\"col12\">2</td><td class=\"col13\">2</td><td class=\"col14\">1</td><td class=\"col15\">0</td><td class=\"col16\">0</td><td class=\"col17\">2</td><td class=\"col18\">3</td><td class=\"col19\">3</td><td class=\"col20\">3</td><td class=\"col21\">●</td><td class=\"col22\">●</td><td class=\"col23\">2</td><td class=\"col24\">1</td><td class=\"col25\">1</td><td class=\"col26\">2</td><td class=\"col27\">1</td><td class=\"col28\">1</td><td class=\"col29\">0</td></tr><tr class=\"row4\"><td class=\"col0\"> </td><td class=\"col1\"> </td><td class=\"col2\"> </td><td class=\"col3\"> </td><td class=\"col4\">●</td><td class=\"col5\">4</td><td class=\"col6\">3</td><td class=\"col7\">3</td><td class=\"col8\">●</td><td class=\"col9\">2</td><td class=\"col10\">1</td><td class=\"col11\">0</td><td class=\"col12\">2</td><td class=\"col13\">●</td><td class=\"col14\">2</td><td class=\"col15\">0</td><td class=\"col16\">0</td><td class=\"col17\">2</td><td class=\"col18\">●</td><td class=\"col19\">●</td><td class=\"col20\">2</td><td class=\"col21\">2</td><td class=\"col22\">2</td><td class=\"col23\">1</td><td class=\"col24\">0</td><td class=\"col25\">0</td><td class=\"col26\">0</td><td class=\"col27\">0</td><td class=\"col28\">0</td><td class=\"col29\">0</td></tr><tr class=\"row5\"><td class=\"col0\"> </td><td class=\"col1\"> </td><td class=\"col2\"> </td><td class=\"col3\"> </td><td class=\"col4\">★</td><td class=\"col5\">●</td><td class=\"col6\">●</td><td class=\"col7\">●</td><td class=\"col8\">2</td><td class=\"col9\">1</td><td class=\"col10\">0</td><td class=\"col11\">0</td><td class=\"col12\">2</td><td class=\"col13\">●</td><td class=\"col14\">2</td><td class=\"col15\">0</td><td class=\"col16\">0</td><td class=\"col17\">2</td><td class=\"col18\">●</td><td class=\"col19\">3</td><td class=\"col20\">1</td><td class=\"col21\">0</td><td class=\"col22\">0</td><td class=\"col23\">0</td><td class=\"col24\">0</td><td class=\"col25\">0</td><td class=\"col26\">1</td><td class=\"col27\">1</td><td class=\"col28\">1</td><td class=\"col29\">0</td></tr><tr class=\"row6\"><td class=\"col0\"> </td><td class=\"col1\"> </td><td class=\"col2\"> </td><td class=\"col3\"> </td><td class=\"col4\"> </td><td class=\"col5\"> </td><td class=\"col6\"> </td><td class=\"col7\">4</td><td class=\"col8\">2</td><td class=\"col9\">2</td><td class=\"col10\">1</td><td class=\"col11\">1</td><td class=\"col12\">1</td><td class=\"col13\">1</td><td class=\"col14\">1</td><td class=\"col15\">0</td><td class=\"col16\">0</td><td class=\"col17\">1</td><td class=\"col18\">1</td><td class=\"col19\">1</td><td class=\"col20\">0</td><td class=\"col21\">0</td><td class=\"col22\">0</td><td class=\"col23\">0</td><td class=\"col24\">0</td><td class=\"col25\">0</td><td class=\"col26\">1</td><td class=\"col27\">●</td><td class=\"col28\">1</td><td class=\"col29\">0</td></tr><tr class=\"row7\"><td class=\"col0\"> </td><td class=\"col1\"> </td><td class=\"col2\"> </td><td class=\"col3\"> </td><td class=\"col4\"> </td><td class=\"col5\"> </td><td class=\"col6\"> </td><td class=\"col7\">3</td><td class=\"col8\">●</td><td class=\"col9\">5</td><td class=\"col10\">●</td><td class=\"col11\">2</td><td class=\"col12\">0</td><td class=\"col13\">0</td><td class=\"col14\">0</td><td class=\"col15\">0</td><td class=\"col16\">0</td><td class=\"col17\">1</td><td class=\"col18\">1</td><td class=\"col19\">1</td><td class=\"col20\">1</td><td class=\"col21\">1</td><td class=\"col22\">1</td><td class=\"col23\">1</td><td class=\"col24\">1</td><td class=\"col25\">1</td><td class=\"col26\">2</td><td class=\"col27\">2</td><td class=\"col28\">2</td><td class=\"col29\">0</td></tr><tr class=\"row8\"><td class=\"col0\"> </td><td class=\"col1\"> </td><td class=\"col2\"> </td><td class=\"col3\"> </td><td class=\"col4\"> </td><td class=\"col5\"> </td><td class=\"col6\">2</td><td class=\"col7\">3</td><td class=\"col8\">●</td><td class=\"col9\">●</td><td class=\"col10\">●</td><td class=\"col11\">2</td><td class=\"col12\">0</td><td class=\"col13\">0</td><td class=\"col14\">1</td><td class=\"col15\">1</td><td class=\"col16\">1</td><td class=\"col17\">1</td><td class=\"col18\">●</td><td class=\"col19\">1</td><td class=\"col20\">1</td><td class=\"col21\">●</td><td class=\"col22\">1</td><td class=\"col23\">1</td><td class=\"col24\">●</td><td class=\"col25\">1</td><td class=\"col26\">1</td><td class=\"col27\">●</td><td class=\"col28\">3</td><td class=\"col29\">2</td></tr><tr class=\"row9\"><td class=\"col0\"> </td><td class=\"col1\"> </td><td class=\"col2\"> </td><td class=\"col3\"> </td><td class=\"col4\"> </td><td class=\"col5\"> </td><td class=\"col6\"> </td><td class=\"col7\"> </td><td class=\"col8\"> </td><td class=\"col9\"> </td><td class=\"col10\">3</td><td class=\"col11\">1</td><td class=\"col12\">0</td><td class=\"col13\">0</td><td class=\"col14\">1</td><td class=\"col15\">●</td><td class=\"col16\">1</td><td class=\"col17\">1</td><td class=\"col18\">1</td><td class=\"col19\">1</td><td class=\"col20\">2</td><td class=\"col21\">2</td><td class=\"col22\">2</td><td class=\"col23\">1</td><td class=\"col24\">1</td><td class=\"col25\">1</td><td class=\"col26\">1</td><td class=\"col27\">2</td><td class=\"col28\">●</td><td class=\"col29\">●</td></tr><tr class=\"row10\"><td class=\"col0\"> </td><td class=\"col1\"> </td><td class=\"col2\"> </td><td class=\"col3\"> </td><td class=\"col4\"> </td><td class=\"col5\"> </td><td class=\"col6\"> </td><td class=\"col7\"> </td><td class=\"col8\"> </td><td class=\"col9\"> </td><td class=\"col10\">2</td><td class=\"col11\">2</td><td class=\"col12\">3</td><td class=\"col13\">2</td><td class=\"col14\">2</td><td class=\"col15\">1</td><td class=\"col16\">1</td><td class=\"col17\">1</td><td class=\"col18\">1</td><td class=\"col19\">1</td><td class=\"col20\">1</td><td class=\"col21\">●</td><td class=\"col22\">1</td><td class=\"col23\">0</td><td class=\"col24\">0</td><td class=\"col25\">0</td><td class=\"col26\">1</td><td class=\"col27\">2</td><td class=\"col28\">3</td><td class=\"col29\">★</td></tr><tr class=\"row11\"><td class=\"col0\"> </td><td class=\"col1\"> </td><td class=\"col2\"> </td><td class=\"col3\"> </td><td class=\"col4\"> </td><td class=\"col5\"> </td><td class=\"col6\"> </td><td class=\"col7\"> </td><td class=\"col8\"> </td><td class=\"col9\">2</td><td class=\"col10\">2</td><td class=\"col11\">●</td><td class=\"col12\">●</td><td class=\"col13\">●</td><td class=\"col14\">3</td><td class=\"col15\">3</td><td class=\"col16\">3</td><td class=\"col17\">3</td><td class=\"col18\">●</td><td class=\"col19\">2</td><td class=\"col20\">3</td><td class=\"col21\">4</td><td class=\"col22\">3</td><td class=\"col23\">1</td><td class=\"col24\">0</td><td class=\"col25\">0</td><td class=\"col26\">2</td><td class=\"col27\">●</td><td class=\"col28\">★</td><td class=\"col29\">★</td></tr><tr class=\"row12\"><td class=\"col0\"> </td><td class=\"col1\"> </td><td class=\"col2\"> </td><td class=\"col3\"> </td><td class=\"col4\"> </td><td class=\"col5\"> </td><td class=\"col6\"> </td><td class=\"col7\"> </td><td class=\"col8\"> </td><td class=\"col9\"> </td><td class=\"col10\"> </td><td class=\"col11\"> </td><td class=\"col12\"> </td><td class=\"col13\">5</td><td class=\"col14\">●</td><td class=\"col15\">●</td><td class=\"col16\">●</td><td class=\"col17\">●</td><td class=\"col18\">4</td><td class=\"col19\">4</td><td class=\"col20\">●</td><td class=\"col21\">●</td><td class=\"col22\">●</td><td class=\"col23\">2</td><td class=\"col24\">2</td><td class=\"col25\">1</td><td class=\"col26\">3</td><td class=\"col27\">●</td><td class=\"col28\"> </td><td class=\"col29\"> </td></tr><tr class=\"row13\"><td class=\"col0\"> </td><td class=\"col1\"> </td><td class=\"col2\"> </td><td class=\"col3\"> </td><td class=\"col4\"> </td><td class=\"col5\"> </td><td class=\"col6\"> </td><td class=\"col7\"> </td><td class=\"col8\"> </td><td class=\"col9\"> </td><td class=\"col10\"> </td><td class=\"col11\"> </td><td class=\"col12\"> </td><td class=\"col13\"> </td><td class=\"col14\"> </td><td class=\"col15\"> </td><td class=\"col16\"> </td><td class=\"col17\"> </td><td class=\"col18\"> </td><td class=\"col19\"> </td><td class=\"col20\"> </td><td class=\"col21\"> </td><td class=\"col22\">★</td><td class=\"col23\">●</td><td class=\"col24\">★</td><td class=\"col25\">●</td><td class=\"col26\">★</td><td class=\"col27\">★</td><td class=\"col28\"> </td><td class=\"col29\"> </td></tr><tr class=\"row14\"><td class=\"col0\"> </td><td class=\"col1\"> </td><td class=\"col2\"> </td><td class=\"col3\"> </td><td class=\"col4\"> </td><td class=\"col5\"> </td><td class=\"col6\"> </td><td class=\"col7\"> </td><td class=\"col8\"> </td><td class=\"col9\"> </td><td class=\"col10\"> </td><td class=\"col11\"> </td><td class=\"col12\"> </td><td class=\"col13\"> </td><td class=\"col14\"> </td><td class=\"col15\"> </td><td class=\"col16\"> </td><td class=\"col17\"> </td><td class=\"col18\"> </td><td class=\"col19\"> </td><td class=\"col20\"> </td><td class=\"col21\"> </td><td class=\"col22\"> </td><td class=\"col23\"> </td><td class=\"col24\"> </td><td class=\"col25\"> </td><td class=\"col26\"> </td><td class=\"col27\"> </td><td class=\"col28\"> </td><td class=\"col29\"> </td></tr><tr class=\"row15\"><td class=\"col0\"> </td><td class=\"col1\"> </td><td class=\"col2\"> </td><td class=\"col3\"> </td><td class=\"col4\"> </td><td class=\"col5\"> </td><td class=\"col6\"> </td><td class=\"col7\"> </td><td class=\"col8\"> </td><td class=\"col9\"> </td><td class=\"col10\"> </td><td class=\"col11\"> </td><td class=\"col12\"> </td><td class=\"col13\"> </td><td class=\"col14\"> </td><td class=\"col15\"> </td><td class=\"col16\"> </td><td class=\"col17\"> </td><td class=\"col18\"> </td><td class=\"col19\"> </td><td class=\"col20\"> </td><td class=\"col21\"> </td><td class=\"col22\"> </td><td class=\"col23\"> </td><td class=\"col24\"> </td><td class=\"col25\"> </td><td class=\"col26\"> </td><td class=\"col27\"> </td><td class=\"col28\"> </td><td class=\"col29\"> </td></tr></table>"
      ]
     },
     "metadata": {},
     "output_type": "display_data"
    },
    {
     "data": {
      "text/html": [
       "\n",
       "    <style>\n",
       "    table.mine td{\n",
       "    width: 20px;\n",
       "    height:20px;\n",
       "    text-align: center;\n",
       "    padding: 1px;\n",
       "    }\n",
       "    </style>\n",
       "    <table class=\"mine\"><tr class=\"row0\"><td class=\"col0\">1</td><td class=\"col1\">1</td><td class=\"col2\">0</td><td class=\"col3\">0</td><td class=\"col4\">0</td><td class=\"col5\">0</td><td class=\"col6\">1</td><td class=\"col7\">★</td><td class=\"col8\">★</td><td class=\"col9\">★</td><td class=\"col10\">★</td><td class=\"col11\">★</td><td class=\"col12\">★</td><td class=\"col13\">★</td><td class=\"col14\">★</td><td class=\"col15\"> </td><td class=\"col16\"> </td><td class=\"col17\"> </td><td class=\"col18\"> </td><td class=\"col19\"> </td><td class=\"col20\"> </td><td class=\"col21\"> </td><td class=\"col22\"> </td><td class=\"col23\"> </td><td class=\"col24\"> </td><td class=\"col25\"> </td><td class=\"col26\"> </td><td class=\"col27\"> </td><td class=\"col28\"> </td><td class=\"col29\"> </td></tr><tr class=\"row1\"><td class=\"col0\">●</td><td class=\"col1\">1</td><td class=\"col2\">0</td><td class=\"col3\">1</td><td class=\"col4\">1</td><td class=\"col5\">2</td><td class=\"col6\">2</td><td class=\"col7\">●</td><td class=\"col8\">★</td><td class=\"col9\">1</td><td class=\"col10\">1</td><td class=\"col11\">1</td><td class=\"col12\">●</td><td class=\"col13\">2</td><td class=\"col14\">★</td><td class=\"col15\"> </td><td class=\"col16\"> </td><td class=\"col17\"> </td><td class=\"col18\"> </td><td class=\"col19\"> </td><td class=\"col20\"> </td><td class=\"col21\"> </td><td class=\"col22\"> </td><td class=\"col23\"> </td><td class=\"col24\"> </td><td class=\"col25\"> </td><td class=\"col26\"> </td><td class=\"col27\"> </td><td class=\"col28\"> </td><td class=\"col29\"> </td></tr><tr class=\"row2\"><td class=\"col0\">1</td><td class=\"col1\">2</td><td class=\"col2\">1</td><td class=\"col3\">2</td><td class=\"col4\">●</td><td class=\"col5\">2</td><td class=\"col6\">●</td><td class=\"col7\">2</td><td class=\"col8\">2</td><td class=\"col9\">●</td><td class=\"col10\">1</td><td class=\"col11\">2</td><td class=\"col12\">2</td><td class=\"col13\">4</td><td class=\"col14\">●</td><td class=\"col15\">★</td><td class=\"col16\">★</td><td class=\"col17\">★</td><td class=\"col18\"> </td><td class=\"col19\"> </td><td class=\"col20\"> </td><td class=\"col21\"> </td><td class=\"col22\"> </td><td class=\"col23\"> </td><td class=\"col24\"> </td><td class=\"col25\"> </td><td class=\"col26\"> </td><td class=\"col27\"> </td><td class=\"col28\"> </td><td class=\"col29\"> </td></tr><tr class=\"row3\"><td class=\"col0\">0</td><td class=\"col1\">1</td><td class=\"col2\">●</td><td class=\"col3\">2</td><td class=\"col4\">2</td><td class=\"col5\">3</td><td class=\"col6\">2</td><td class=\"col7\">2</td><td class=\"col8\">3</td><td class=\"col9\">3</td><td class=\"col10\">2</td><td class=\"col11\">1</td><td class=\"col12\">●</td><td class=\"col13\">4</td><td class=\"col14\">●</td><td class=\"col15\">★</td><td class=\"col16\">1</td><td class=\"col17\"> </td><td class=\"col18\"> </td><td class=\"col19\"> </td><td class=\"col20\"> </td><td class=\"col21\"> </td><td class=\"col22\"> </td><td class=\"col23\"> </td><td class=\"col24\"> </td><td class=\"col25\"> </td><td class=\"col26\"> </td><td class=\"col27\"> </td><td class=\"col28\"> </td><td class=\"col29\"> </td></tr><tr class=\"row4\"><td class=\"col0\">1</td><td class=\"col1\">2</td><td class=\"col2\">1</td><td class=\"col3\">1</td><td class=\"col4\">2</td><td class=\"col5\">●</td><td class=\"col6\">2</td><td class=\"col7\">1</td><td class=\"col8\">●</td><td class=\"col9\">●</td><td class=\"col10\">2</td><td class=\"col11\">3</td><td class=\"col12\">4</td><td class=\"col13\">●</td><td class=\"col14\">3</td><td class=\"col15\">3</td><td class=\"col16\">3</td><td class=\"col17\"> </td><td class=\"col18\"> </td><td class=\"col19\"> </td><td class=\"col20\"> </td><td class=\"col21\"> </td><td class=\"col22\"> </td><td class=\"col23\"> </td><td class=\"col24\"> </td><td class=\"col25\"> </td><td class=\"col26\"> </td><td class=\"col27\"> </td><td class=\"col28\"> </td><td class=\"col29\"> </td></tr><tr class=\"row5\"><td class=\"col0\">●</td><td class=\"col1\">1</td><td class=\"col2\">0</td><td class=\"col3\">0</td><td class=\"col4\">3</td><td class=\"col5\">●</td><td class=\"col6\">4</td><td class=\"col7\">2</td><td class=\"col8\">3</td><td class=\"col9\">3</td><td class=\"col10\">3</td><td class=\"col11\">●</td><td class=\"col12\">●</td><td class=\"col13\">3</td><td class=\"col14\">●</td><td class=\"col15\">2</td><td class=\"col16\">●</td><td class=\"col17\">●</td><td class=\"col18\">3</td><td class=\"col19\">●</td><td class=\"col20\"> </td><td class=\"col21\"> </td><td class=\"col22\"> </td><td class=\"col23\"> </td><td class=\"col24\"> </td><td class=\"col25\"> </td><td class=\"col26\"> </td><td class=\"col27\"> </td><td class=\"col28\"> </td><td class=\"col29\"> </td></tr><tr class=\"row6\"><td class=\"col0\">1</td><td class=\"col1\">1</td><td class=\"col2\">0</td><td class=\"col3\">0</td><td class=\"col4\">2</td><td class=\"col5\">●</td><td class=\"col6\">●</td><td class=\"col7\">1</td><td class=\"col8\">1</td><td class=\"col9\">●</td><td class=\"col10\">2</td><td class=\"col11\">2</td><td class=\"col12\">2</td><td class=\"col13\">2</td><td class=\"col14\">1</td><td class=\"col15\">2</td><td class=\"col16\">2</td><td class=\"col17\">2</td><td class=\"col18\">3</td><td class=\"col19\"> </td><td class=\"col20\"> </td><td class=\"col21\"> </td><td class=\"col22\"> </td><td class=\"col23\"> </td><td class=\"col24\"> </td><td class=\"col25\"> </td><td class=\"col26\"> </td><td class=\"col27\"> </td><td class=\"col28\"> </td><td class=\"col29\"> </td></tr><tr class=\"row7\"><td class=\"col0\">0</td><td class=\"col1\">0</td><td class=\"col2\">0</td><td class=\"col3\">0</td><td class=\"col4\">1</td><td class=\"col5\">2</td><td class=\"col6\">2</td><td class=\"col7\">1</td><td class=\"col8\">1</td><td class=\"col9\">1</td><td class=\"col10\">1</td><td class=\"col11\">0</td><td class=\"col12\">0</td><td class=\"col13\">0</td><td class=\"col14\">1</td><td class=\"col15\">1</td><td class=\"col16\">1</td><td class=\"col17\">1</td><td class=\"col18\">2</td><td class=\"col19\"> </td><td class=\"col20\"> </td><td class=\"col21\"> </td><td class=\"col22\"> </td><td class=\"col23\"> </td><td class=\"col24\"> </td><td class=\"col25\"> </td><td class=\"col26\"> </td><td class=\"col27\"> </td><td class=\"col28\"> </td><td class=\"col29\"> </td></tr><tr class=\"row8\"><td class=\"col0\">1</td><td class=\"col1\">2</td><td class=\"col2\">2</td><td class=\"col3\">3</td><td class=\"col4\">2</td><td class=\"col5\">1</td><td class=\"col6\">0</td><td class=\"col7\">0</td><td class=\"col8\">0</td><td class=\"col9\">0</td><td class=\"col10\">1</td><td class=\"col11\">1</td><td class=\"col12\">1</td><td class=\"col13\">1</td><td class=\"col14\">3</td><td class=\"col15\">●</td><td class=\"col16\">2</td><td class=\"col17\">1</td><td class=\"col18\">●</td><td class=\"col19\">2</td><td class=\"col20\"> </td><td class=\"col21\"> </td><td class=\"col22\"> </td><td class=\"col23\"> </td><td class=\"col24\"> </td><td class=\"col25\"> </td><td class=\"col26\"> </td><td class=\"col27\"> </td><td class=\"col28\"> </td><td class=\"col29\"> </td></tr><tr class=\"row9\"><td class=\"col0\">●</td><td class=\"col1\">2</td><td class=\"col2\">●</td><td class=\"col3\">●</td><td class=\"col4\">●</td><td class=\"col5\">1</td><td class=\"col6\">0</td><td class=\"col7\">0</td><td class=\"col8\">0</td><td class=\"col9\">0</td><td class=\"col10\">1</td><td class=\"col11\">●</td><td class=\"col12\">2</td><td class=\"col13\">2</td><td class=\"col14\">●</td><td class=\"col15\">●</td><td class=\"col16\">3</td><td class=\"col17\">2</td><td class=\"col18\">3</td><td class=\"col19\"> </td><td class=\"col20\"> </td><td class=\"col21\"> </td><td class=\"col22\"> </td><td class=\"col23\"> </td><td class=\"col24\"> </td><td class=\"col25\"> </td><td class=\"col26\"> </td><td class=\"col27\"> </td><td class=\"col28\"> </td><td class=\"col29\"> </td></tr><tr class=\"row10\"><td class=\"col0\">1</td><td class=\"col1\">2</td><td class=\"col2\">2</td><td class=\"col3\">4</td><td class=\"col4\">3</td><td class=\"col5\">3</td><td class=\"col6\">1</td><td class=\"col7\">2</td><td class=\"col8\">2</td><td class=\"col9\">3</td><td class=\"col10\">3</td><td class=\"col11\">4</td><td class=\"col12\">●</td><td class=\"col13\">4</td><td class=\"col14\">4</td><td class=\"col15\"> </td><td class=\"col16\"> </td><td class=\"col17\"> </td><td class=\"col18\"> </td><td class=\"col19\"> </td><td class=\"col20\"> </td><td class=\"col21\"> </td><td class=\"col22\"> </td><td class=\"col23\"> </td><td class=\"col24\"> </td><td class=\"col25\"> </td><td class=\"col26\"> </td><td class=\"col27\"> </td><td class=\"col28\"> </td><td class=\"col29\"> </td></tr><tr class=\"row11\"><td class=\"col0\">0</td><td class=\"col1\">0</td><td class=\"col2\">0</td><td class=\"col3\">1</td><td class=\"col4\">●</td><td class=\"col5\">2</td><td class=\"col6\">●</td><td class=\"col7\">3</td><td class=\"col8\">●</td><td class=\"col9\">●</td><td class=\"col10\">●</td><td class=\"col11\">4</td><td class=\"col12\">●</td><td class=\"col13\"> </td><td class=\"col14\"> </td><td class=\"col15\"> </td><td class=\"col16\"> </td><td class=\"col17\"> </td><td class=\"col18\"> </td><td class=\"col19\"> </td><td class=\"col20\"> </td><td class=\"col21\"> </td><td class=\"col22\"> </td><td class=\"col23\"> </td><td class=\"col24\"> </td><td class=\"col25\"> </td><td class=\"col26\"> </td><td class=\"col27\"> </td><td class=\"col28\"> </td><td class=\"col29\"> </td></tr><tr class=\"row12\"><td class=\"col0\">0</td><td class=\"col1\">0</td><td class=\"col2\">0</td><td class=\"col3\">1</td><td class=\"col4\">1</td><td class=\"col5\">2</td><td class=\"col6\">1</td><td class=\"col7\">3</td><td class=\"col8\">●</td><td class=\"col9\">6</td><td class=\"col10\">★</td><td class=\"col11\"> </td><td class=\"col12\"> </td><td class=\"col13\"> </td><td class=\"col14\"> </td><td class=\"col15\"> </td><td class=\"col16\"> </td><td class=\"col17\"> </td><td class=\"col18\"> </td><td class=\"col19\"> </td><td class=\"col20\"> </td><td class=\"col21\"> </td><td class=\"col22\"> </td><td class=\"col23\"> </td><td class=\"col24\"> </td><td class=\"col25\"> </td><td class=\"col26\"> </td><td class=\"col27\"> </td><td class=\"col28\"> </td><td class=\"col29\"> </td></tr><tr class=\"row13\"><td class=\"col0\">0</td><td class=\"col1\">0</td><td class=\"col2\">0</td><td class=\"col3\">0</td><td class=\"col4\">0</td><td class=\"col5\">0</td><td class=\"col6\">0</td><td class=\"col7\">2</td><td class=\"col8\">3</td><td class=\"col9\">●</td><td class=\"col10\">●</td><td class=\"col11\"> </td><td class=\"col12\"> </td><td class=\"col13\"> </td><td class=\"col14\"> </td><td class=\"col15\"> </td><td class=\"col16\"> </td><td class=\"col17\"> </td><td class=\"col18\"> </td><td class=\"col19\"> </td><td class=\"col20\"> </td><td class=\"col21\"> </td><td class=\"col22\"> </td><td class=\"col23\"> </td><td class=\"col24\"> </td><td class=\"col25\"> </td><td class=\"col26\"> </td><td class=\"col27\"> </td><td class=\"col28\"> </td><td class=\"col29\"> </td></tr><tr class=\"row14\"><td class=\"col0\">1</td><td class=\"col1\">1</td><td class=\"col2\">2</td><td class=\"col3\">1</td><td class=\"col4\">2</td><td class=\"col5\">1</td><td class=\"col6\">1</td><td class=\"col7\">1</td><td class=\"col8\">●</td><td class=\"col9\">4</td><td class=\"col10\"> </td><td class=\"col11\"> </td><td class=\"col12\"> </td><td class=\"col13\"> </td><td class=\"col14\"> </td><td class=\"col15\"> </td><td class=\"col16\"> </td><td class=\"col17\"> </td><td class=\"col18\"> </td><td class=\"col19\"> </td><td class=\"col20\"> </td><td class=\"col21\"> </td><td class=\"col22\"> </td><td class=\"col23\"> </td><td class=\"col24\"> </td><td class=\"col25\"> </td><td class=\"col26\"> </td><td class=\"col27\"> </td><td class=\"col28\"> </td><td class=\"col29\"> </td></tr><tr class=\"row15\"><td class=\"col0\">1</td><td class=\"col1\">●</td><td class=\"col2\">2</td><td class=\"col3\">●</td><td class=\"col4\">2</td><td class=\"col5\">●</td><td class=\"col6\">1</td><td class=\"col7\">1</td><td class=\"col8\">1</td><td class=\"col9\">2</td><td class=\"col10\"> </td><td class=\"col11\"> </td><td class=\"col12\"> </td><td class=\"col13\"> </td><td class=\"col14\"> </td><td class=\"col15\"> </td><td class=\"col16\"> </td><td class=\"col17\"> </td><td class=\"col18\"> </td><td class=\"col19\"> </td><td class=\"col20\"> </td><td class=\"col21\"> </td><td class=\"col22\"> </td><td class=\"col23\"> </td><td class=\"col24\"> </td><td class=\"col25\"> </td><td class=\"col26\"> </td><td class=\"col27\"> </td><td class=\"col28\"> </td><td class=\"col29\"> </td></tr></table>"
      ]
     },
     "metadata": {},
     "output_type": "display_data"
    },
    {
     "data": {
      "text/html": [
       "\n",
       "    <style>\n",
       "    table.mine td{\n",
       "    width: 20px;\n",
       "    height:20px;\n",
       "    text-align: center;\n",
       "    padding: 1px;\n",
       "    }\n",
       "    </style>\n",
       "    <table class=\"mine\"><tr class=\"row0\"><td class=\"col0\"> </td><td class=\"col1\"> </td><td class=\"col2\"> </td><td class=\"col3\"> </td><td class=\"col4\"> </td><td class=\"col5\"> </td><td class=\"col6\"> </td><td class=\"col7\"> </td><td class=\"col8\"> </td><td class=\"col9\"> </td><td class=\"col10\"> </td><td class=\"col11\">1</td><td class=\"col12\">0</td><td class=\"col13\">0</td><td class=\"col14\">0</td><td class=\"col15\">0</td><td class=\"col16\">1</td><td class=\"col17\">●</td><td class=\"col18\">2</td><td class=\"col19\">1</td><td class=\"col20\">★</td><td class=\"col21\"> </td><td class=\"col22\"> </td><td class=\"col23\"> </td><td class=\"col24\"> </td><td class=\"col25\"> </td><td class=\"col26\"> </td><td class=\"col27\"> </td><td class=\"col28\"> </td><td class=\"col29\"> </td></tr><tr class=\"row1\"><td class=\"col0\"> </td><td class=\"col1\"> </td><td class=\"col2\"> </td><td class=\"col3\"> </td><td class=\"col4\"> </td><td class=\"col5\"> </td><td class=\"col6\"> </td><td class=\"col7\"> </td><td class=\"col8\"> </td><td class=\"col9\"> </td><td class=\"col10\"> </td><td class=\"col11\">3</td><td class=\"col12\">1</td><td class=\"col13\">0</td><td class=\"col14\">0</td><td class=\"col15\">0</td><td class=\"col16\">1</td><td class=\"col17\">1</td><td class=\"col18\">2</td><td class=\"col19\">●</td><td class=\"col20\">★</td><td class=\"col21\">★</td><td class=\"col22\">★</td><td class=\"col23\">★</td><td class=\"col24\">★</td><td class=\"col25\">★</td><td class=\"col26\"> </td><td class=\"col27\"> </td><td class=\"col28\"> </td><td class=\"col29\"> </td></tr><tr class=\"row2\"><td class=\"col0\"> </td><td class=\"col1\"> </td><td class=\"col2\"> </td><td class=\"col3\"> </td><td class=\"col4\"> </td><td class=\"col5\"> </td><td class=\"col6\"> </td><td class=\"col7\"> </td><td class=\"col8\">★</td><td class=\"col9\">★</td><td class=\"col10\">●</td><td class=\"col11\">●</td><td class=\"col12\">2</td><td class=\"col13\">0</td><td class=\"col14\">1</td><td class=\"col15\">1</td><td class=\"col16\">1</td><td class=\"col17\">1</td><td class=\"col18\">3</td><td class=\"col19\">★</td><td class=\"col20\"> </td><td class=\"col21\">★</td><td class=\"col22\">1</td><td class=\"col23\">1</td><td class=\"col24\">1</td><td class=\"col25\">★</td><td class=\"col26\"> </td><td class=\"col27\"> </td><td class=\"col28\"> </td><td class=\"col29\"> </td></tr><tr class=\"row3\"><td class=\"col0\"> </td><td class=\"col1\"> </td><td class=\"col2\"> </td><td class=\"col3\"> </td><td class=\"col4\"> </td><td class=\"col5\"> </td><td class=\"col6\"> </td><td class=\"col7\"> </td><td class=\"col8\">★</td><td class=\"col9\">2</td><td class=\"col10\">5</td><td class=\"col11\">●</td><td class=\"col12\">4</td><td class=\"col13\">1</td><td class=\"col14\">2</td><td class=\"col15\">●</td><td class=\"col16\">2</td><td class=\"col17\">1</td><td class=\"col18\">●</td><td class=\"col19\">●</td><td class=\"col20\">3</td><td class=\"col21\"> </td><td class=\"col22\"> </td><td class=\"col23\">1</td><td class=\"col24\"> </td><td class=\"col25\"> </td><td class=\"col26\">●</td><td class=\"col27\"> </td><td class=\"col28\"> </td><td class=\"col29\"> </td></tr><tr class=\"row4\"><td class=\"col0\"> </td><td class=\"col1\"> </td><td class=\"col2\"> </td><td class=\"col3\"> </td><td class=\"col4\">★</td><td class=\"col5\">★</td><td class=\"col6\">●</td><td class=\"col7\">★</td><td class=\"col8\">★</td><td class=\"col9\">●</td><td class=\"col10\">4</td><td class=\"col11\">●</td><td class=\"col12\">●</td><td class=\"col13\">2</td><td class=\"col14\">3</td><td class=\"col15\">●</td><td class=\"col16\">2</td><td class=\"col17\">1</td><td class=\"col18\">2</td><td class=\"col19\">3</td><td class=\"col20\">●</td><td class=\"col21\">2</td><td class=\"col22\">1</td><td class=\"col23\">1</td><td class=\"col24\">1</td><td class=\"col25\">2</td><td class=\"col26\">4</td><td class=\"col27\">●</td><td class=\"col28\"> </td><td class=\"col29\"> </td></tr><tr class=\"row5\"><td class=\"col0\"> </td><td class=\"col1\"> </td><td class=\"col2\"> </td><td class=\"col3\"> </td><td class=\"col4\">●</td><td class=\"col5\">2</td><td class=\"col6\">1</td><td class=\"col7\">1</td><td class=\"col8\">2</td><td class=\"col9\">●</td><td class=\"col10\">3</td><td class=\"col11\">2</td><td class=\"col12\">3</td><td class=\"col13\">●</td><td class=\"col14\">3</td><td class=\"col15\">2</td><td class=\"col16\">1</td><td class=\"col17\">1</td><td class=\"col18\">1</td><td class=\"col19\">2</td><td class=\"col20\">1</td><td class=\"col21\">1</td><td class=\"col22\">0</td><td class=\"col23\">0</td><td class=\"col24\">0</td><td class=\"col25\">0</td><td class=\"col26\">2</td><td class=\"col27\"> </td><td class=\"col28\"> </td><td class=\"col29\"> </td></tr><tr class=\"row6\"><td class=\"col0\"> </td><td class=\"col1\"> </td><td class=\"col2\"> </td><td class=\"col3\"> </td><td class=\"col4\">★</td><td class=\"col5\">1</td><td class=\"col6\">0</td><td class=\"col7\">0</td><td class=\"col8\">2</td><td class=\"col9\">2</td><td class=\"col10\">2</td><td class=\"col11\">0</td><td class=\"col12\">1</td><td class=\"col13\">2</td><td class=\"col14\">●</td><td class=\"col15\">1</td><td class=\"col16\">0</td><td class=\"col17\">1</td><td class=\"col18\">●</td><td class=\"col19\">1</td><td class=\"col20\">0</td><td class=\"col21\">0</td><td class=\"col22\">0</td><td class=\"col23\">0</td><td class=\"col24\">0</td><td class=\"col25\">1</td><td class=\"col26\">2</td><td class=\"col27\"> </td><td class=\"col28\"> </td><td class=\"col29\"> </td></tr><tr class=\"row7\"><td class=\"col0\"> </td><td class=\"col1\"> </td><td class=\"col2\"> </td><td class=\"col3\"> </td><td class=\"col4\">★</td><td class=\"col5\">1</td><td class=\"col6\">1</td><td class=\"col7\">1</td><td class=\"col8\">1</td><td class=\"col9\">●</td><td class=\"col10\">1</td><td class=\"col11\">0</td><td class=\"col12\">0</td><td class=\"col13\">2</td><td class=\"col14\">2</td><td class=\"col15\">2</td><td class=\"col16\">0</td><td class=\"col17\">2</td><td class=\"col18\">2</td><td class=\"col19\">2</td><td class=\"col20\">0</td><td class=\"col21\">0</td><td class=\"col22\">0</td><td class=\"col23\">1</td><td class=\"col24\">1</td><td class=\"col25\">2</td><td class=\"col26\">●</td><td class=\"col27\">3</td><td class=\"col28\">●</td><td class=\"col29\"> </td></tr><tr class=\"row8\"><td class=\"col0\"> </td><td class=\"col1\"> </td><td class=\"col2\"> </td><td class=\"col3\"> </td><td class=\"col4\">★</td><td class=\"col5\">★</td><td class=\"col6\">●</td><td class=\"col7\">2</td><td class=\"col8\">2</td><td class=\"col9\">2</td><td class=\"col10\">1</td><td class=\"col11\">0</td><td class=\"col12\">0</td><td class=\"col13\">1</td><td class=\"col14\">●</td><td class=\"col15\">1</td><td class=\"col16\">1</td><td class=\"col17\">2</td><td class=\"col18\">●</td><td class=\"col19\">3</td><td class=\"col20\">2</td><td class=\"col21\">2</td><td class=\"col22\">1</td><td class=\"col23\">2</td><td class=\"col24\">●</td><td class=\"col25\">3</td><td class=\"col26\">2</td><td class=\"col27\">3</td><td class=\"col28\">★</td><td class=\"col29\"> </td></tr><tr class=\"row9\"><td class=\"col0\"> </td><td class=\"col1\"> </td><td class=\"col2\"> </td><td class=\"col3\"> </td><td class=\"col4\"> </td><td class=\"col5\"> </td><td class=\"col6\">★</td><td class=\"col7\">2</td><td class=\"col8\">●</td><td class=\"col9\">1</td><td class=\"col10\">0</td><td class=\"col11\">1</td><td class=\"col12\">1</td><td class=\"col13\">2</td><td class=\"col14\">1</td><td class=\"col15\">1</td><td class=\"col16\">1</td><td class=\"col17\">●</td><td class=\"col18\">3</td><td class=\"col19\">●</td><td class=\"col20\">●</td><td class=\"col21\">4</td><td class=\"col22\">●</td><td class=\"col23\">3</td><td class=\"col24\">1</td><td class=\"col25\">2</td><td class=\"col26\">●</td><td class=\"col27\">2</td><td class=\"col28\">★</td><td class=\"col29\"> </td></tr><tr class=\"row10\"><td class=\"col0\"> </td><td class=\"col1\"> </td><td class=\"col2\"> </td><td class=\"col3\"> </td><td class=\"col4\"> </td><td class=\"col5\"> </td><td class=\"col6\">★</td><td class=\"col7\">★</td><td class=\"col8\">2</td><td class=\"col9\">1</td><td class=\"col10\">0</td><td class=\"col11\">2</td><td class=\"col12\">●</td><td class=\"col13\">3</td><td class=\"col14\">1</td><td class=\"col15\">1</td><td class=\"col16\">1</td><td class=\"col17\">1</td><td class=\"col18\">2</td><td class=\"col19\">4</td><td class=\"col20\">●</td><td class=\"col21\">7</td><td class=\"col22\">●</td><td class=\"col23\">5</td><td class=\"col24\">2</td><td class=\"col25\">2</td><td class=\"col26\">3</td><td class=\"col27\">●</td><td class=\"col28\">★</td><td class=\"col29\"> </td></tr><tr class=\"row11\"><td class=\"col0\"> </td><td class=\"col1\"> </td><td class=\"col2\"> </td><td class=\"col3\"> </td><td class=\"col4\"> </td><td class=\"col5\"> </td><td class=\"col6\">★</td><td class=\"col7\">●</td><td class=\"col8\">1</td><td class=\"col9\">0</td><td class=\"col10\">0</td><td class=\"col11\">2</td><td class=\"col12\">●</td><td class=\"col13\">5</td><td class=\"col14\">●</td><td class=\"col15\">2</td><td class=\"col16\">0</td><td class=\"col17\">0</td><td class=\"col18\">0</td><td class=\"col19\">2</td><td class=\"col20\">●</td><td class=\"col21\">●</td><td class=\"col22\">●</td><td class=\"col23\">●</td><td class=\"col24\">●</td><td class=\"col25\">1</td><td class=\"col26\">3</td><td class=\"col27\">●</td><td class=\"col28\"> </td><td class=\"col29\"> </td></tr><tr class=\"row12\"><td class=\"col0\"> </td><td class=\"col1\"> </td><td class=\"col2\"> </td><td class=\"col3\"> </td><td class=\"col4\"> </td><td class=\"col5\"> </td><td class=\"col6\">★</td><td class=\"col7\">1</td><td class=\"col8\">2</td><td class=\"col9\">2</td><td class=\"col10\">2</td><td class=\"col11\">2</td><td class=\"col12\">2</td><td class=\"col13\">●</td><td class=\"col14\">●</td><td class=\"col15\">3</td><td class=\"col16\">1</td><td class=\"col17\">1</td><td class=\"col18\">0</td><td class=\"col19\">1</td><td class=\"col20\">2</td><td class=\"col21\">3</td><td class=\"col22\">3</td><td class=\"col23\">3</td><td class=\"col24\">3</td><td class=\"col25\">2</td><td class=\"col26\">3</td><td class=\"col27\">●</td><td class=\"col28\"> </td><td class=\"col29\"> </td></tr><tr class=\"row13\"><td class=\"col0\"> </td><td class=\"col1\"> </td><td class=\"col2\"> </td><td class=\"col3\"> </td><td class=\"col4\"> </td><td class=\"col5\"> </td><td class=\"col6\">★</td><td class=\"col7\">★</td><td class=\"col8\">2</td><td class=\"col9\">●</td><td class=\"col10\">●</td><td class=\"col11\">1</td><td class=\"col12\">1</td><td class=\"col13\">2</td><td class=\"col14\">2</td><td class=\"col15\">2</td><td class=\"col16\">●</td><td class=\"col17\">1</td><td class=\"col18\">0</td><td class=\"col19\">0</td><td class=\"col20\">0</td><td class=\"col21\">0</td><td class=\"col22\">0</td><td class=\"col23\">0</td><td class=\"col24\">1</td><td class=\"col25\">●</td><td class=\"col26\">2</td><td class=\"col27\">★</td><td class=\"col28\"> </td><td class=\"col29\"> </td></tr><tr class=\"row14\"><td class=\"col0\"> </td><td class=\"col1\"> </td><td class=\"col2\"> </td><td class=\"col3\"> </td><td class=\"col4\"> </td><td class=\"col5\"> </td><td class=\"col6\"> </td><td class=\"col7\"> </td><td class=\"col8\"> </td><td class=\"col9\">3</td><td class=\"col10\">2</td><td class=\"col11\">1</td><td class=\"col12\">0</td><td class=\"col13\">0</td><td class=\"col14\">0</td><td class=\"col15\">2</td><td class=\"col16\">2</td><td class=\"col17\">2</td><td class=\"col18\">0</td><td class=\"col19\">0</td><td class=\"col20\">0</td><td class=\"col21\">0</td><td class=\"col22\">0</td><td class=\"col23\">0</td><td class=\"col24\">2</td><td class=\"col25\">2</td><td class=\"col26\">2</td><td class=\"col27\">★</td><td class=\"col28\"> </td><td class=\"col29\"> </td></tr><tr class=\"row15\"><td class=\"col0\"> </td><td class=\"col1\"> </td><td class=\"col2\"> </td><td class=\"col3\"> </td><td class=\"col4\"> </td><td class=\"col5\"> </td><td class=\"col6\"> </td><td class=\"col7\"> </td><td class=\"col8\"> </td><td class=\"col9\">1</td><td class=\"col10\">0</td><td class=\"col11\">0</td><td class=\"col12\">0</td><td class=\"col13\">0</td><td class=\"col14\">0</td><td class=\"col15\">1</td><td class=\"col16\">●</td><td class=\"col17\">1</td><td class=\"col18\">0</td><td class=\"col19\">0</td><td class=\"col20\">0</td><td class=\"col21\">0</td><td class=\"col22\">0</td><td class=\"col23\">0</td><td class=\"col24\">1</td><td class=\"col25\">●</td><td class=\"col26\">1</td><td class=\"col27\">★</td><td class=\"col28\"> </td><td class=\"col29\"> </td></tr></table>"
      ]
     },
     "metadata": {},
     "output_type": "display_data"
    },
    {
     "data": {
      "text/html": [
       "\n",
       "    <style>\n",
       "    table.mine td{\n",
       "    width: 20px;\n",
       "    height:20px;\n",
       "    text-align: center;\n",
       "    padding: 1px;\n",
       "    }\n",
       "    </style>\n",
       "    <table class=\"mine\"><tr class=\"row0\"><td class=\"col0\">0</td><td class=\"col1\">0</td><td class=\"col2\">1</td><td class=\"col3\">●</td><td class=\"col4\">3</td><td class=\"col5\">●</td><td class=\"col6\">1</td><td class=\"col7\">0</td><td class=\"col8\">0</td><td class=\"col9\">1</td><td class=\"col10\">3</td><td class=\"col11\">●</td><td class=\"col12\">●</td><td class=\"col13\">2</td><td class=\"col14\">1</td><td class=\"col15\">2</td><td class=\"col16\">●</td><td class=\"col17\">2</td><td class=\"col18\">0</td><td class=\"col19\">0</td><td class=\"col20\">0</td><td class=\"col21\">1</td><td class=\"col22\">2</td><td class=\"col23\"> </td><td class=\"col24\"> </td><td class=\"col25\"> </td><td class=\"col26\"> </td><td class=\"col27\"> </td><td class=\"col28\"> </td><td class=\"col29\"> </td></tr><tr class=\"row1\"><td class=\"col0\">1</td><td class=\"col1\">1</td><td class=\"col2\">1</td><td class=\"col3\">2</td><td class=\"col4\">●</td><td class=\"col5\">2</td><td class=\"col6\">1</td><td class=\"col7\">0</td><td class=\"col8\">0</td><td class=\"col9\">2</td><td class=\"col10\">●</td><td class=\"col11\">●</td><td class=\"col12\">4</td><td class=\"col13\">●</td><td class=\"col14\">1</td><td class=\"col15\">2</td><td class=\"col16\">●</td><td class=\"col17\">2</td><td class=\"col18\">0</td><td class=\"col19\">0</td><td class=\"col20\">0</td><td class=\"col21\">1</td><td class=\"col22\">●</td><td class=\"col23\"> </td><td class=\"col24\"> </td><td class=\"col25\"> </td><td class=\"col26\"> </td><td class=\"col27\"> </td><td class=\"col28\"> </td><td class=\"col29\"> </td></tr><tr class=\"row2\"><td class=\"col0\">●</td><td class=\"col1\">1</td><td class=\"col2\">0</td><td class=\"col3\">1</td><td class=\"col4\">1</td><td class=\"col5\">1</td><td class=\"col6\">0</td><td class=\"col7\">0</td><td class=\"col8\">0</td><td class=\"col9\">2</td><td class=\"col10\">●</td><td class=\"col11\">4</td><td class=\"col12\">4</td><td class=\"col13\">2</td><td class=\"col14\">2</td><td class=\"col15\">1</td><td class=\"col16\">1</td><td class=\"col17\">1</td><td class=\"col18\">0</td><td class=\"col19\">1</td><td class=\"col20\">1</td><td class=\"col21\">2</td><td class=\"col22\">3</td><td class=\"col23\">●</td><td class=\"col24\"> </td><td class=\"col25\"> </td><td class=\"col26\"> </td><td class=\"col27\"> </td><td class=\"col28\"> </td><td class=\"col29\"> </td></tr><tr class=\"row3\"><td class=\"col0\">1</td><td class=\"col1\">1</td><td class=\"col2\">0</td><td class=\"col3\">0</td><td class=\"col4\">1</td><td class=\"col5\">1</td><td class=\"col6\">1</td><td class=\"col7\">0</td><td class=\"col8\">1</td><td class=\"col9\">2</td><td class=\"col10\">3</td><td class=\"col11\">●</td><td class=\"col12\">2</td><td class=\"col13\">●</td><td class=\"col14\">1</td><td class=\"col15\">0</td><td class=\"col16\">0</td><td class=\"col17\">0</td><td class=\"col18\">0</td><td class=\"col19\">2</td><td class=\"col20\">●</td><td class=\"col21\">2</td><td class=\"col22\">2</td><td class=\"col23\"> </td><td class=\"col24\"> </td><td class=\"col25\"> </td><td class=\"col26\"> </td><td class=\"col27\"> </td><td class=\"col28\"> </td><td class=\"col29\"> </td></tr><tr class=\"row4\"><td class=\"col0\">0</td><td class=\"col1\">0</td><td class=\"col2\">0</td><td class=\"col3\">0</td><td class=\"col4\">1</td><td class=\"col5\">●</td><td class=\"col6\">1</td><td class=\"col7\">0</td><td class=\"col8\">1</td><td class=\"col9\">●</td><td class=\"col10\">2</td><td class=\"col11\">1</td><td class=\"col12\">2</td><td class=\"col13\">1</td><td class=\"col14\">1</td><td class=\"col15\">0</td><td class=\"col16\">0</td><td class=\"col17\">0</td><td class=\"col18\">1</td><td class=\"col19\">4</td><td class=\"col20\">●</td><td class=\"col21\">4</td><td class=\"col22\">2</td><td class=\"col23\"> </td><td class=\"col24\"> </td><td class=\"col25\">2</td><td class=\"col26\"> </td><td class=\"col27\"> </td><td class=\"col28\"> </td><td class=\"col29\"> </td></tr><tr class=\"row5\"><td class=\"col0\">1</td><td class=\"col1\">1</td><td class=\"col2\">1</td><td class=\"col3\">0</td><td class=\"col4\">1</td><td class=\"col5\">1</td><td class=\"col6\">1</td><td class=\"col7\">0</td><td class=\"col8\">1</td><td class=\"col9\">1</td><td class=\"col10\">1</td><td class=\"col11\">0</td><td class=\"col12\">0</td><td class=\"col13\">0</td><td class=\"col14\">0</td><td class=\"col15\">0</td><td class=\"col16\">0</td><td class=\"col17\">1</td><td class=\"col18\">2</td><td class=\"col19\">●</td><td class=\"col20\">●</td><td class=\"col21\">5</td><td class=\"col22\">●</td><td class=\"col23\">4</td><td class=\"col24\">2</td><td class=\"col25\">2</td><td class=\"col26\">1</td><td class=\"col27\"> </td><td class=\"col28\"> </td><td class=\"col29\"> </td></tr><tr class=\"row6\"><td class=\"col0\">1</td><td class=\"col1\">●</td><td class=\"col2\">1</td><td class=\"col3\">0</td><td class=\"col4\">0</td><td class=\"col5\">0</td><td class=\"col6\">0</td><td class=\"col7\">0</td><td class=\"col8\">1</td><td class=\"col9\">1</td><td class=\"col10\">1</td><td class=\"col11\">0</td><td class=\"col12\">0</td><td class=\"col13\">0</td><td class=\"col14\">1</td><td class=\"col15\">1</td><td class=\"col16\">2</td><td class=\"col17\">3</td><td class=\"col18\">●</td><td class=\"col19\">5</td><td class=\"col20\">4</td><td class=\"col21\">●</td><td class=\"col22\">●</td><td class=\"col23\">3</td><td class=\"col24\">●</td><td class=\"col25\">1</td><td class=\"col26\">1</td><td class=\"col27\">3</td><td class=\"col28\"> </td><td class=\"col29\"> </td></tr><tr class=\"row7\"><td class=\"col0\">1</td><td class=\"col1\">1</td><td class=\"col2\">2</td><td class=\"col3\">1</td><td class=\"col4\">1</td><td class=\"col5\">1</td><td class=\"col6\">1</td><td class=\"col7\">1</td><td class=\"col8\">1</td><td class=\"col9\">●</td><td class=\"col10\">2</td><td class=\"col11\">1</td><td class=\"col12\">0</td><td class=\"col13\">0</td><td class=\"col14\">1</td><td class=\"col15\">●</td><td class=\"col16\">3</td><td class=\"col17\">●</td><td class=\"col18\">●</td><td class=\"col19\">5</td><td class=\"col20\">●</td><td class=\"col21\">4</td><td class=\"col22\">3</td><td class=\"col23\">3</td><td class=\"col24\">2</td><td class=\"col25\">1</td><td class=\"col26\">1</td><td class=\"col27\"> </td><td class=\"col28\"> </td><td class=\"col29\"> </td></tr><tr class=\"row8\"><td class=\"col0\">0</td><td class=\"col1\">1</td><td class=\"col2\">2</td><td class=\"col3\">●</td><td class=\"col4\">1</td><td class=\"col5\">1</td><td class=\"col6\">●</td><td class=\"col7\">1</td><td class=\"col8\">1</td><td class=\"col9\">3</td><td class=\"col10\">●</td><td class=\"col11\">2</td><td class=\"col12\">0</td><td class=\"col13\">0</td><td class=\"col14\">2</td><td class=\"col15\">2</td><td class=\"col16\">4</td><td class=\"col17\">●</td><td class=\"col18\">4</td><td class=\"col19\">●</td><td class=\"col20\">●</td><td class=\"col21\">2</td><td class=\"col22\">1</td><td class=\"col23\">●</td><td class=\"col24\">1</td><td class=\"col25\">1</td><td class=\"col26\">2</td><td class=\"col27\"> </td><td class=\"col28\"> </td><td class=\"col29\"> </td></tr><tr class=\"row9\"><td class=\"col0\">0</td><td class=\"col1\">1</td><td class=\"col2\">●</td><td class=\"col3\">2</td><td class=\"col4\">1</td><td class=\"col5\">1</td><td class=\"col6\">1</td><td class=\"col7\">1</td><td class=\"col8\">0</td><td class=\"col9\">2</td><td class=\"col10\">●</td><td class=\"col11\">2</td><td class=\"col12\">0</td><td class=\"col13\">1</td><td class=\"col14\">2</td><td class=\"col15\">●</td><td class=\"col16\">2</td><td class=\"col17\">1</td><td class=\"col18\">2</td><td class=\"col19\">2</td><td class=\"col20\">2</td><td class=\"col21\">1</td><td class=\"col22\">1</td><td class=\"col23\">2</td><td class=\"col24\">3</td><td class=\"col25\">3</td><td class=\"col26\">●</td><td class=\"col27\">3</td><td class=\"col28\">●</td><td class=\"col29\">2</td></tr><tr class=\"row10\"><td class=\"col0\">0</td><td class=\"col1\">1</td><td class=\"col2\">1</td><td class=\"col3\">1</td><td class=\"col4\">0</td><td class=\"col5\">0</td><td class=\"col6\">1</td><td class=\"col7\">1</td><td class=\"col8\">1</td><td class=\"col9\">2</td><td class=\"col10\">2</td><td class=\"col11\">2</td><td class=\"col12\">0</td><td class=\"col13\">1</td><td class=\"col14\">●</td><td class=\"col15\">2</td><td class=\"col16\">1</td><td class=\"col17\">0</td><td class=\"col18\">0</td><td class=\"col19\">0</td><td class=\"col20\">1</td><td class=\"col21\">1</td><td class=\"col22\">1</td><td class=\"col23\">1</td><td class=\"col24\">●</td><td class=\"col25\">●</td><td class=\"col26\">2</td><td class=\"col27\">2</td><td class=\"col28\">1</td><td class=\"col29\">1</td></tr><tr class=\"row11\"><td class=\"col0\">0</td><td class=\"col1\">1</td><td class=\"col2\">2</td><td class=\"col3\">2</td><td class=\"col4\">1</td><td class=\"col5\">0</td><td class=\"col6\">1</td><td class=\"col7\">●</td><td class=\"col8\">2</td><td class=\"col9\">2</td><td class=\"col10\">●</td><td class=\"col11\">2</td><td class=\"col12\">1</td><td class=\"col13\">1</td><td class=\"col14\">2</td><td class=\"col15\">2</td><td class=\"col16\">1</td><td class=\"col17\">0</td><td class=\"col18\">0</td><td class=\"col19\">0</td><td class=\"col20\">1</td><td class=\"col21\">●</td><td class=\"col22\">1</td><td class=\"col23\">1</td><td class=\"col24\">3</td><td class=\"col25\">3</td><td class=\"col26\">2</td><td class=\"col27\">0</td><td class=\"col28\">0</td><td class=\"col29\">0</td></tr><tr class=\"row12\"><td class=\"col0\">0</td><td class=\"col1\">2</td><td class=\"col2\">●</td><td class=\"col3\">●</td><td class=\"col4\">4</td><td class=\"col5\">2</td><td class=\"col6\">2</td><td class=\"col7\">2</td><td class=\"col8\">●</td><td class=\"col9\">2</td><td class=\"col10\">2</td><td class=\"col11\">●</td><td class=\"col12\">2</td><td class=\"col13\">1</td><td class=\"col14\">2</td><td class=\"col15\">●</td><td class=\"col16\">1</td><td class=\"col17\">0</td><td class=\"col18\">0</td><td class=\"col19\">0</td><td class=\"col20\">1</td><td class=\"col21\">1</td><td class=\"col22\">2</td><td class=\"col23\">1</td><td class=\"col24\">2</td><td class=\"col25\">●</td><td class=\"col26\">2</td><td class=\"col27\">2</td><td class=\"col28\">2</td><td class=\"col29\">1</td></tr><tr class=\"row13\"><td class=\"col0\">0</td><td class=\"col1\">2</td><td class=\"col2\">●</td><td class=\"col3\">●</td><td class=\"col4\">●</td><td class=\"col5\">●</td><td class=\"col6\">1</td><td class=\"col7\">1</td><td class=\"col8\">1</td><td class=\"col9\">1</td><td class=\"col10\">1</td><td class=\"col11\">1</td><td class=\"col12\">2</td><td class=\"col13\">●</td><td class=\"col14\">2</td><td class=\"col15\">1</td><td class=\"col16\">1</td><td class=\"col17\">0</td><td class=\"col18\">0</td><td class=\"col19\">1</td><td class=\"col20\">2</td><td class=\"col21\">3</td><td class=\"col22\">3</td><td class=\"col23\">●</td><td class=\"col24\">4</td><td class=\"col25\">3</td><td class=\"col26\">4</td><td class=\"col27\">●</td><td class=\"col28\">●</td><td class=\"col29\">1</td></tr><tr class=\"row14\"><td class=\"col0\">1</td><td class=\"col1\">3</td><td class=\"col2\">4</td><td class=\"col3\"> </td><td class=\"col4\"> </td><td class=\"col5\">5</td><td class=\"col6\">4</td><td class=\"col7\">2</td><td class=\"col8\">1</td><td class=\"col9\">0</td><td class=\"col10\">1</td><td class=\"col11\">1</td><td class=\"col12\">2</td><td class=\"col13\">2</td><td class=\"col14\">3</td><td class=\"col15\">3</td><td class=\"col16\">2</td><td class=\"col17\">1</td><td class=\"col18\">0</td><td class=\"col19\">1</td><td class=\"col20\">●</td><td class=\"col21\">●</td><td class=\"col22\">●</td><td class=\"col23\">5</td><td class=\"col24\">●</td><td class=\"col25\">●</td><td class=\"col26\">4</td><td class=\"col27\">●</td><td class=\"col28\">6</td><td class=\"col29\">3</td></tr><tr class=\"row15\"><td class=\"col0\"> </td><td class=\"col1\"> </td><td class=\"col2\">●</td><td class=\"col3\"> </td><td class=\"col4\"> </td><td class=\"col5\">●</td><td class=\"col6\">●</td><td class=\"col7\">●</td><td class=\"col8\">1</td><td class=\"col9\">0</td><td class=\"col10\">1</td><td class=\"col11\">●</td><td class=\"col12\">1</td><td class=\"col13\">1</td><td class=\"col14\">●</td><td class=\"col15\">●</td><td class=\"col16\">●</td><td class=\"col17\">1</td><td class=\"col18\">0</td><td class=\"col19\">1</td><td class=\"col20\">2</td><td class=\"col21\">3</td><td class=\"col22\">3</td><td class=\"col23\">●</td><td class=\"col24\">●</td><td class=\"col25\">★</td><td class=\"col26\">★</td><td class=\"col27\">●</td><td class=\"col28\">●</td><td class=\"col29\">●</td></tr></table>"
      ]
     },
     "metadata": {},
     "output_type": "display_data"
    }
   ],
   "source": [
    "for i in range(1, 5):\n",
    "    display_mine(solve_mine(*read_mine_image(\"./data/mine{:02d}.png\".format(i))))"
   ]
  }
 ],
 "metadata": {
  "kernelspec": {
   "display_name": "Python [default]",
   "language": "python",
   "name": "python3"
  },
  "language_info": {
   "codemirror_mode": {
    "name": "ipython",
    "version": 3
   },
   "file_extension": ".py",
   "mimetype": "text/x-python",
   "name": "python",
   "nbconvert_exporter": "python",
   "pygments_lexer": "ipython3",
   "version": "3.5.2"
  }
 },
 "nbformat": 4,
 "nbformat_minor": 2
}
