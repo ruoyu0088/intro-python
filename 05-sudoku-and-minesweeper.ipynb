{
 "cells": [
  {
   "cell_type": "markdown",
   "metadata": {},
   "source": [
    "# 数独とマインスイーパー"
   ]
  },
  {
   "cell_type": "markdown",
   "metadata": {},
   "source": [
    "## ロジック推理問題"
   ]
  },
  {
   "cell_type": "markdown",
   "metadata": {},
   "source": [
    "* A: 私はやっていない。\n",
    "* B: Dは犯人です。\n",
    "* C: Bは犯人だ。\n",
    "* D: Bは嘘を言っています。\n",
    "\n",
    "四人の中一人だけ本当のことを言っています。犯人はだれでしょうか。"
   ]
  },
  {
   "cell_type": "markdown",
   "metadata": {},
   "source": [
    "|  容疑者 | 発言  | ブール式  |\n",
    "|:--|:--|:--|\n",
    "| A  | 私はやっていない  | `S1=~A`  |\n",
    "| B  | Dは犯人です  |  `S2=D` |\n",
    "| C  | Bは犯人だ  |  `S3=B` |\n",
    "| D  | Bは嘘を言っています | `S4=~D`  |"
   ]
  },
  {
   "cell_type": "markdown",
   "metadata": {},
   "source": [
    "一人だけ真実を語っています。AND-ORの選言標準形(DNF)で表すと、\n",
    "\n",
    "```\n",
    "     S1 & ~S2 & ~S3 & ~S4 |\n",
    "    ~S1 &  S2 & ~S3 & ~S4 | \n",
    "    ~S1 & ~S2 &  S3 & ~S4 | \n",
    "    ~S1 & ~S2 & ~S3 &  S4\n",
    "```\n",
    "\n",
    "OR-ANDの連言標準形(CNF)で表すと、\n",
    "\n",
    "```\n",
    "    ~(S1 & S2) &\n",
    "    ~(S1 & S3) &\n",
    "    ~(S1 & S4) &\n",
    "    ~(S2 & S3) &\n",
    "    ~(S2 & S4) &\n",
    "    ~(S3 & S4) &\n",
    "    ~(~S1 & ~S2 & ~S3 & ~S4)\n",
    "```\n",
    "\n",
    "A, B, C, Dを入れ替えると次の式になります。\n",
    "\n",
    "```\n",
    "    ~S1, ~S2               A, ~D\n",
    "    ~S1, ~S3               A, ~B\n",
    "    ~S1, ~S4               A,  D\n",
    "    ~S2, ~S3              ~D, ~B\n",
    "    ~S2, ~S4              ~D,  D\n",
    "    ~S3, ~S4              ~B,  D\n",
    "     S1,  S2, S3, S4      ~A,  D, B, ~D\n",
    "```     \n",
    "\n",
    "C言語のライブラリ`picosat`でCNF式を解けます。PythonからC言語のライブラリを簡単に実行できるCythonというコンパイラを利用して、Pythonの拡張ライブラリを作ります。"
   ]
  },
  {
   "cell_type": "code",
   "execution_count": 2,
   "metadata": {
    "collapsed": false
   },
   "outputs": [
    {
     "name": "stdout",
     "output_type": "stream",
     "text": [
      "[1, -1, -1, -1]\n"
     ]
    }
   ],
   "source": [
    "from cycosat import CoSAT\n",
    "\n",
    "sat = CoSAT()\n",
    "problem = [[1, -4], [1, -2], [1, 4], [-4, -2],\n",
    "           [-4, 4], [-2, 4], [-1, 4, 2, -4]]\n",
    "\n",
    "sat.add_clauses(problem)\n",
    "print(sat.solve())"
   ]
  },
  {
   "cell_type": "markdown",
   "metadata": {},
   "source": [
    "## 数独"
   ]
  },
  {
   "cell_type": "code",
   "execution_count": 7,
   "metadata": {
    "collapsed": false
   },
   "outputs": [
    {
     "data": {
      "text/html": [
       "\n",
       "    <style>\n",
       "    table.sudoku span{\n",
       "    color:#aaaaaa;\n",
       "    }\n",
       "\n",
       "    table.sudoku td{\n",
       "    width: 30px;\n",
       "    height: 30px;\n",
       "    text-align: center;\n",
       "    font-size: 20px;\n",
       "    }\n",
       "\n",
       "    table.sudoku tr.row0 td,\n",
       "    table.sudoku tr.row3 td,\n",
       "    table.sudoku tr.row6 td\n",
       "    {\n",
       "    border-top:2px solid;\n",
       "    }\n",
       "\n",
       "    table.sudoku tr.row8 td{\n",
       "    border-bottom:2px solid;\n",
       "    }\n",
       "\n",
       "    table.sudoku td.col0,\n",
       "    table.sudoku td.col3,\n",
       "    table.sudoku td.col6{\n",
       "    border-left:2px solid;\n",
       "    }\n",
       "\n",
       "    table.sudoku td.col8{\n",
       "    border-right:2px solid;\n",
       "    }\n",
       "\n",
       "    table.sudoku .highlight{\n",
       "    color: black;\n",
       "    }\n",
       "    </style>\n",
       "    <table class=\"sudoku\"><tr class=\"row0\"><td class=\"col0\"><span class=\"highlight\"> </span></td><td class=\"col1\"><span class=\"highlight\"> </span></td><td class=\"col2\"><span class=\"highlight\"> </span></td><td class=\"col3\"><span class=\"highlight\"> </span></td><td class=\"col4\"><span class=\"highlight\"> </span></td><td class=\"col5\"><span class=\"highlight\"> </span></td><td class=\"col6\"><span class=\"highlight\">1</span></td><td class=\"col7\"><span class=\"highlight\">8</span></td><td class=\"col8\"><span class=\"highlight\">5</span></td></tr><tr class=\"row1\"><td class=\"col0\"><span class=\"highlight\"> </span></td><td class=\"col1\"><span class=\"highlight\"> </span></td><td class=\"col2\"><span class=\"highlight\">7</span></td><td class=\"col3\"><span class=\"highlight\"> </span></td><td class=\"col4\"><span class=\"highlight\">3</span></td><td class=\"col5\"><span class=\"highlight\"> </span></td><td class=\"col6\"><span class=\"highlight\"> </span></td><td class=\"col7\"><span class=\"highlight\"> </span></td><td class=\"col8\"><span class=\"highlight\"> </span></td></tr><tr class=\"row2\"><td class=\"col0\"><span class=\"highlight\"> </span></td><td class=\"col1\"><span class=\"highlight\"> </span></td><td class=\"col2\"><span class=\"highlight\"> </span></td><td class=\"col3\"><span class=\"highlight\"> </span></td><td class=\"col4\"><span class=\"highlight\">2</span></td><td class=\"col5\"><span class=\"highlight\">1</span></td><td class=\"col6\"><span class=\"highlight\">4</span></td><td class=\"col7\"><span class=\"highlight\"> </span></td><td class=\"col8\"><span class=\"highlight\"> </span></td></tr><tr class=\"row3\"><td class=\"col0\"><span class=\"highlight\">8</span></td><td class=\"col1\"><span class=\"highlight\"> </span></td><td class=\"col2\"><span class=\"highlight\"> </span></td><td class=\"col3\"><span class=\"highlight\"> </span></td><td class=\"col4\"><span class=\"highlight\"> </span></td><td class=\"col5\"><span class=\"highlight\"> </span></td><td class=\"col6\"><span class=\"highlight\"> </span></td><td class=\"col7\"><span class=\"highlight\">2</span></td><td class=\"col8\"><span class=\"highlight\"> </span></td></tr><tr class=\"row4\"><td class=\"col0\"><span class=\"highlight\"> </span></td><td class=\"col1\"><span class=\"highlight\"> </span></td><td class=\"col2\"><span class=\"highlight\">3</span></td><td class=\"col3\"><span class=\"highlight\">9</span></td><td class=\"col4\"><span class=\"highlight\"> </span></td><td class=\"col5\"><span class=\"highlight\">5</span></td><td class=\"col6\"><span class=\"highlight\">6</span></td><td class=\"col7\"><span class=\"highlight\"> </span></td><td class=\"col8\"><span class=\"highlight\"> </span></td></tr><tr class=\"row5\"><td class=\"col0\"><span class=\"highlight\"> </span></td><td class=\"col1\"><span class=\"highlight\">5</span></td><td class=\"col2\"><span class=\"highlight\"> </span></td><td class=\"col3\"><span class=\"highlight\"> </span></td><td class=\"col4\"><span class=\"highlight\"> </span></td><td class=\"col5\"><span class=\"highlight\"> </span></td><td class=\"col6\"><span class=\"highlight\"> </span></td><td class=\"col7\"><span class=\"highlight\"> </span></td><td class=\"col8\"><span class=\"highlight\">4</span></td></tr><tr class=\"row6\"><td class=\"col0\"><span class=\"highlight\"> </span></td><td class=\"col1\"><span class=\"highlight\"> </span></td><td class=\"col2\"><span class=\"highlight\">4</span></td><td class=\"col3\"><span class=\"highlight\">8</span></td><td class=\"col4\"><span class=\"highlight\">6</span></td><td class=\"col5\"><span class=\"highlight\"> </span></td><td class=\"col6\"><span class=\"highlight\"> </span></td><td class=\"col7\"><span class=\"highlight\"> </span></td><td class=\"col8\"><span class=\"highlight\"> </span></td></tr><tr class=\"row7\"><td class=\"col0\"><span class=\"highlight\"> </span></td><td class=\"col1\"><span class=\"highlight\"> </span></td><td class=\"col2\"><span class=\"highlight\"> </span></td><td class=\"col3\"><span class=\"highlight\"> </span></td><td class=\"col4\"><span class=\"highlight\">4</span></td><td class=\"col5\"><span class=\"highlight\"> </span></td><td class=\"col6\"><span class=\"highlight\">3</span></td><td class=\"col7\"><span class=\"highlight\"> </span></td><td class=\"col8\"><span class=\"highlight\"> </span></td></tr><tr class=\"row8\"><td class=\"col0\"><span class=\"highlight\">9</span></td><td class=\"col1\"><span class=\"highlight\">3</span></td><td class=\"col2\"><span class=\"highlight\">1</span></td><td class=\"col3\"><span class=\"highlight\"> </span></td><td class=\"col4\"><span class=\"highlight\"> </span></td><td class=\"col5\"><span class=\"highlight\"> </span></td><td class=\"col6\"><span class=\"highlight\"> </span></td><td class=\"col7\"><span class=\"highlight\"> </span></td><td class=\"col8\"><span class=\"highlight\"> </span></td></tr></table>"
      ]
     },
     "metadata": {},
     "output_type": "display_data"
    }
   ],
   "source": [
    "from utils import display_sudoku\n",
    "\n",
    "sudoku_str = \"\"\"\n",
    "000000185\n",
    "007030000\n",
    "000021400\n",
    "800000020\n",
    "003905600\n",
    "050000004\n",
    "004860000\n",
    "000040300\n",
    "931000000\"\"\"\n",
    "\n",
    "sudoku = np.array([[int(x) for x in line]\n",
    "                   for line in sudoku_str.strip().split()])\n",
    "\n",
    "display_sudoku(sudoku)"
   ]
  },
  {
   "cell_type": "markdown",
   "metadata": {},
   "source": [
    "3×3のブロックに区切られた 9×9の正方形の枠内に1〜9までの数字を入れるペンシルパズル。https://ja.wikipedia.org/wiki/%E6%95%B0%E7%8B%AC\n",
    "\n",
    "各個枠に九つのブール変数を振り分け、`bools[行, 列, 数字]`。例えば、`bools[1, 2, 3] == True`の場合、1行、2列の数値は3です。\n",
    "\n",
    "* 各個枠に一つの数字を入れる\n",
    "\n",
    "> 例えば、1行1列目のブロックに対して、`bools[1, 1, 1..9]`の九つの変数の中一つしか`True`です。\n",
    "\n",
    "* 各個列に重複な数字がない\n",
    "\n",
    "> 例えば、2列目には一つの1しかない： `bools[1..9, 2, 1]`の九つの変数の中一つしか`True`です。\n",
    "\n",
    "* 各個行に重複な数字がない\n",
    "\n",
    "> 例えば、3行目には一つの6しかない： `bools[3, 1..9, 6]`の九つの変数の中一つしか`True`です。\n",
    "\n",
    "* 各個ブロックに重複な数字がない\n",
    "\n",
    "> 例えば、1ブロック目には一つの7しかない： `bools[1..3, 1..3, 7]`の九つの変数の中一つしか`True`です。\n",
    "\n",
    "* 初期数字があるブロック\n",
    "\n",
    "> 例えば、7列1行目には1がある：`bools[1, 7, 1]`は`True`です。"
   ]
  },
  {
   "cell_type": "code",
   "execution_count": 8,
   "metadata": {
    "collapsed": true
   },
   "outputs": [],
   "source": [
    "import numpy as np\n",
    "from itertools import combinations\n",
    "from cycosat import CoSAT\n",
    "from utils import display_sudoku\n",
    "\n",
    "class SudokuSolver:\n",
    "    def __init__(self):\n",
    "\n",
    "        index = np.array(list(combinations(range(9), 2)))\n",
    "        self.bools = bools = np.arange(1, 9*9*9+1).reshape(9, 9, 9)\n",
    "\n",
    "        def get_conditions(bools):\n",
    "            conditions = []\n",
    "            conditions.extend( bools.reshape(-1, 9).tolist() ) \n",
    "            conditions.extend( (-bools[:,:,index].reshape(-1, 2)).tolist() ) \n",
    "            return conditions\n",
    "            \n",
    "        c1 = get_conditions(bools) \n",
    "        c2 = get_conditions( np.swapaxes(bools, 1, 2) ) \n",
    "        c3 = get_conditions( np.swapaxes(bools, 0, 2) ) \n",
    "        \n",
    "        tmp = np.swapaxes(bools.reshape(3, 3, 3, 3, 9), 1, 2).reshape(9, 9, 9)\n",
    "        c4 = get_conditions( np.swapaxes(tmp, 1, 2) )\n",
    "        \n",
    "        self.conditions = []\n",
    "        for c in (c1, c2, c3, c4):\n",
    "            self.conditions.extend(c)\n",
    "            \n",
    "    def solve(self):\n",
    "        cells = self.cells\n",
    "        sat = CoSAT()\n",
    "        sat.add_clauses(self.conditions)\n",
    "        assumes = [self.bools[r, c, v-1] for (r, c), v in cells.items()]       \n",
    "        solution = sat.assume_solve(assumes)\n",
    "        if isinstance(solution, list):\n",
    "            res = np.array(sat.solve())\n",
    "            mask = (res > 0).reshape(9, 9, 9)\n",
    "            return (np.where(mask)[2]+1).reshape(9, 9)\n",
    "        else:\n",
    "            return None\n",
    "        \n",
    "    def show_solution(self):\n",
    "        display_sudoku(self.solve(), highlights=self.cells.keys())\n",
    "        \n",
    "    def load_str(self, sudoku_str):\n",
    "        sudoku = np.array([[int(x) for x in line]\n",
    "                   for line in sudoku_str.strip().split()])\n",
    "        rows, cols = np.where(sudoku != 0)\n",
    "        vals = sudoku[rows, cols]\n",
    "        self.cells = {(r, c): v for r, c, v in zip(rows, cols, vals)}"
   ]
  },
  {
   "cell_type": "code",
   "execution_count": 9,
   "metadata": {
    "collapsed": false
   },
   "outputs": [
    {
     "data": {
      "text/html": [
       "\n",
       "    <style>\n",
       "    table.sudoku span{\n",
       "    color:#aaaaaa;\n",
       "    }\n",
       "\n",
       "    table.sudoku td{\n",
       "    width: 30px;\n",
       "    height: 30px;\n",
       "    text-align: center;\n",
       "    font-size: 20px;\n",
       "    }\n",
       "\n",
       "    table.sudoku tr.row0 td,\n",
       "    table.sudoku tr.row3 td,\n",
       "    table.sudoku tr.row6 td\n",
       "    {\n",
       "    border-top:2px solid;\n",
       "    }\n",
       "\n",
       "    table.sudoku tr.row8 td{\n",
       "    border-bottom:2px solid;\n",
       "    }\n",
       "\n",
       "    table.sudoku td.col0,\n",
       "    table.sudoku td.col3,\n",
       "    table.sudoku td.col6{\n",
       "    border-left:2px solid;\n",
       "    }\n",
       "\n",
       "    table.sudoku td.col8{\n",
       "    border-right:2px solid;\n",
       "    }\n",
       "\n",
       "    table.sudoku .highlight{\n",
       "    color: black;\n",
       "    }\n",
       "    </style>\n",
       "    <table class=\"sudoku\"><tr class=\"row0\"><td class=\"col0\"><span class=\"highlight\">3</span></td><td class=\"col1\"><span class=\"highlight\">6</span></td><td class=\"col2\"><span class=\"highlight\">2</span></td><td class=\"col3\"><span class=\"highlight\">7</span></td><td class=\"col4\"><span class=\"highlight\">9</span></td><td class=\"col5\"><span class=\"highlight\">4</span></td><td class=\"col6\"><span class=\"\">1</span></td><td class=\"col7\"><span class=\"\">8</span></td><td class=\"col8\"><span class=\"\">5</span></td></tr><tr class=\"row1\"><td class=\"col0\"><span class=\"highlight\">4</span></td><td class=\"col1\"><span class=\"highlight\">1</span></td><td class=\"col2\"><span class=\"\">7</span></td><td class=\"col3\"><span class=\"highlight\">5</span></td><td class=\"col4\"><span class=\"\">3</span></td><td class=\"col5\"><span class=\"highlight\">8</span></td><td class=\"col6\"><span class=\"highlight\">2</span></td><td class=\"col7\"><span class=\"highlight\">6</span></td><td class=\"col8\"><span class=\"highlight\">9</span></td></tr><tr class=\"row2\"><td class=\"col0\"><span class=\"highlight\">5</span></td><td class=\"col1\"><span class=\"highlight\">9</span></td><td class=\"col2\"><span class=\"highlight\">8</span></td><td class=\"col3\"><span class=\"highlight\">6</span></td><td class=\"col4\"><span class=\"\">2</span></td><td class=\"col5\"><span class=\"\">1</span></td><td class=\"col6\"><span class=\"\">4</span></td><td class=\"col7\"><span class=\"highlight\">3</span></td><td class=\"col8\"><span class=\"highlight\">7</span></td></tr><tr class=\"row3\"><td class=\"col0\"><span class=\"\">8</span></td><td class=\"col1\"><span class=\"highlight\">7</span></td><td class=\"col2\"><span class=\"highlight\">9</span></td><td class=\"col3\"><span class=\"highlight\">4</span></td><td class=\"col4\"><span class=\"highlight\">1</span></td><td class=\"col5\"><span class=\"highlight\">6</span></td><td class=\"col6\"><span class=\"highlight\">5</span></td><td class=\"col7\"><span class=\"\">2</span></td><td class=\"col8\"><span class=\"highlight\">3</span></td></tr><tr class=\"row4\"><td class=\"col0\"><span class=\"highlight\">2</span></td><td class=\"col1\"><span class=\"highlight\">4</span></td><td class=\"col2\"><span class=\"\">3</span></td><td class=\"col3\"><span class=\"\">9</span></td><td class=\"col4\"><span class=\"highlight\">7</span></td><td class=\"col5\"><span class=\"\">5</span></td><td class=\"col6\"><span class=\"\">6</span></td><td class=\"col7\"><span class=\"highlight\">1</span></td><td class=\"col8\"><span class=\"highlight\">8</span></td></tr><tr class=\"row5\"><td class=\"col0\"><span class=\"highlight\">1</span></td><td class=\"col1\"><span class=\"\">5</span></td><td class=\"col2\"><span class=\"highlight\">6</span></td><td class=\"col3\"><span class=\"highlight\">3</span></td><td class=\"col4\"><span class=\"highlight\">8</span></td><td class=\"col5\"><span class=\"highlight\">2</span></td><td class=\"col6\"><span class=\"highlight\">7</span></td><td class=\"col7\"><span class=\"highlight\">9</span></td><td class=\"col8\"><span class=\"\">4</span></td></tr><tr class=\"row6\"><td class=\"col0\"><span class=\"highlight\">7</span></td><td class=\"col1\"><span class=\"highlight\">2</span></td><td class=\"col2\"><span class=\"\">4</span></td><td class=\"col3\"><span class=\"\">8</span></td><td class=\"col4\"><span class=\"\">6</span></td><td class=\"col5\"><span class=\"highlight\">3</span></td><td class=\"col6\"><span class=\"highlight\">9</span></td><td class=\"col7\"><span class=\"highlight\">5</span></td><td class=\"col8\"><span class=\"highlight\">1</span></td></tr><tr class=\"row7\"><td class=\"col0\"><span class=\"highlight\">6</span></td><td class=\"col1\"><span class=\"highlight\">8</span></td><td class=\"col2\"><span class=\"highlight\">5</span></td><td class=\"col3\"><span class=\"highlight\">1</span></td><td class=\"col4\"><span class=\"\">4</span></td><td class=\"col5\"><span class=\"highlight\">9</span></td><td class=\"col6\"><span class=\"\">3</span></td><td class=\"col7\"><span class=\"highlight\">7</span></td><td class=\"col8\"><span class=\"highlight\">2</span></td></tr><tr class=\"row8\"><td class=\"col0\"><span class=\"\">9</span></td><td class=\"col1\"><span class=\"\">3</span></td><td class=\"col2\"><span class=\"\">1</span></td><td class=\"col3\"><span class=\"highlight\">2</span></td><td class=\"col4\"><span class=\"highlight\">5</span></td><td class=\"col5\"><span class=\"highlight\">7</span></td><td class=\"col6\"><span class=\"highlight\">8</span></td><td class=\"col7\"><span class=\"highlight\">4</span></td><td class=\"col8\"><span class=\"highlight\">6</span></td></tr></table>"
      ]
     },
     "metadata": {},
     "output_type": "display_data"
    }
   ],
   "source": [
    "solver = SudokuSolver()\n",
    "solver.load_str(sudoku_str)\n",
    "solver.show_solution()"
   ]
  },
  {
   "cell_type": "markdown",
   "metadata": {},
   "source": [
    "## マインスイーパー"
   ]
  },
  {
   "cell_type": "markdown",
   "metadata": {},
   "source": [
    "マインスイーパーも数独と同じように、CNF式に変換できます。"
   ]
  }
 ],
 "metadata": {
  "kernelspec": {
   "display_name": "Python [default]",
   "language": "python",
   "name": "python3"
  },
  "language_info": {
   "codemirror_mode": {
    "name": "ipython",
    "version": 3
   },
   "file_extension": ".py",
   "mimetype": "text/x-python",
   "name": "python",
   "nbconvert_exporter": "python",
   "pygments_lexer": "ipython3",
   "version": "3.5.2"
  }
 },
 "nbformat": 4,
 "nbformat_minor": 2
}
