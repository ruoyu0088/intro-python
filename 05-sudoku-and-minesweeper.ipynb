{
 "cells": [
  {
   "cell_type": "markdown",
   "metadata": {},
   "source": [
    "# 数独とマインスイーパー"
   ]
  },
  {
   "cell_type": "markdown",
   "metadata": {},
   "source": [
    "## ロジック推理問題"
   ]
  },
  {
   "cell_type": "markdown",
   "metadata": {},
   "source": [
    "* A: 私はやっていない。\n",
    "* B: Dは犯人です。\n",
    "* C: Bは犯人だ。\n",
    "* D: Bは嘘を言っています。\n",
    "\n",
    "四人の中一人だけ本当のことを言っています。犯人はだれでしょうか。"
   ]
  },
  {
   "cell_type": "markdown",
   "metadata": {},
   "source": [
    "|  容疑者 | 発言  | ブール式  |\n",
    "|:--|:--|:--|\n",
    "| A  | 私はやっていない  | `S1=~A`  |\n",
    "| B  | Dは犯人です  |  `S2=D` |\n",
    "| C  | Bは犯人だ  |  `S3=B` |\n",
    "| D  | Bは嘘を言っています | `S4=~D`  |"
   ]
  },
  {
   "cell_type": "markdown",
   "metadata": {},
   "source": [
    "一人だけ真実を語っています。AND-ORの選言標準形(DNF)で表すと、\n",
    "\n",
    "```\n",
    "     S1 & ~S2 & ~S3 & ~S4 |\n",
    "    ~S1 &  S2 & ~S3 & ~S4 | \n",
    "    ~S1 & ~S2 &  S3 & ~S4 | \n",
    "    ~S1 & ~S2 & ~S3 &  S4\n",
    "```\n",
    "\n",
    "OR-ANDの連言標準形(CNF)で表すと、\n",
    "\n",
    "```\n",
    "    ~(S1 & S2) &\n",
    "    ~(S1 & S3) &\n",
    "    ~(S1 & S4) &\n",
    "    ~(S2 & S3) &\n",
    "    ~(S2 & S4) &\n",
    "    ~(S3 & S4) &\n",
    "    ~(~S1 & ~S2 & ~S3 & ~S4)\n",
    "```\n",
    "\n",
    "A, B, C, Dを入れ替えると次の式になります。\n",
    "\n",
    "```\n",
    "    ~S1, ~S2               A, ~D\n",
    "    ~S1, ~S3               A, ~B\n",
    "    ~S1, ~S4               A,  D\n",
    "    ~S2, ~S3              ~D, ~B\n",
    "    ~S2, ~S4              ~D,  D\n",
    "    ~S3, ~S4              ~B,  D\n",
    "     S1,  S2, S3, S4      ~A,  D, B, ~D\n",
    "```     \n",
    "\n",
    "C言語のライブラリ`picosat`でCNF式を解けます。PythonからC言語のライブラリを簡単に実行できるCythonというコンパイラを利用して、Pythonの拡張ライブラリを作ります。"
   ]
  },
  {
   "cell_type": "code",
   "execution_count": 2,
   "metadata": {
    "collapsed": false
   },
   "outputs": [
    {
     "name": "stdout",
     "output_type": "stream",
     "text": [
      "[1, -1, -1, -1]\n"
     ]
    }
   ],
   "source": [
    "from cycosat import CoSAT\n",
    "\n",
    "sat = CoSAT()\n",
    "problem = [[1, -4], [1, -2], [1, 4], [-4, -2],\n",
    "           [-4, 4], [-2, 4], [-1, 4, 2, -4]]\n",
    "\n",
    "sat.add_clauses(problem)\n",
    "print(sat.solve())"
   ]
  },
  {
   "cell_type": "markdown",
   "metadata": {},
   "source": [
    "## 数独"
   ]
  },
  {
   "cell_type": "code",
   "execution_count": null,
   "metadata": {
    "collapsed": true
   },
   "outputs": [],
   "source": []
  }
 ],
 "metadata": {
  "kernelspec": {
   "display_name": "Python [default]",
   "language": "python",
   "name": "python3"
  },
  "language_info": {
   "codemirror_mode": {
    "name": "ipython",
    "version": 3
   },
   "file_extension": ".py",
   "mimetype": "text/x-python",
   "name": "python",
   "nbconvert_exporter": "python",
   "pygments_lexer": "ipython3",
   "version": "3.5.2"
  }
 },
 "nbformat": 4,
 "nbformat_minor": 2
}
